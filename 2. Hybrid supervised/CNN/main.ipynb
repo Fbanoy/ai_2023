{
  "nbformat": 4,
  "nbformat_minor": 0,
  "metadata": {
    "colab": {
      "provenance": [],
      "authorship_tag": "ABX9TyNogtdzQQZNrdiBn00mSjH6",
      "include_colab_link": true
    },
    "kernelspec": {
      "name": "python3",
      "display_name": "Python 3"
    },
    "language_info": {
      "name": "python"
    }
  },
  "cells": [
    {
      "cell_type": "markdown",
      "metadata": {
        "id": "view-in-github",
        "colab_type": "text"
      },
      "source": [
        "<a href=\"https://colab.research.google.com/github/scardenol/ai_2023/blob/main/2.%20Hybrid%20supervised/CNN/main.ipynb\" target=\"_parent\"><img src=\"https://colab.research.google.com/assets/colab-badge.svg\" alt=\"Open In Colab\"/></a>"
      ]
    },
    {
      "cell_type": "code",
      "execution_count": null,
      "metadata": {
        "id": "tHnoeZ5Ro0hq"
      },
      "outputs": [],
      "source": [
        "import tensorflow as tf\n",
        "from tensorflow import keras\n",
        "import numpy as np\n",
        "import matplotlib.pyplot as plt\n",
        "import urllib.request  # the lib that handles the url stuff"
      ]
    },
    {
      "cell_type": "code",
      "source": [
        "# Read data from github repo by url\n",
        "# Load zip file containing folder from link\n",
        "file_url = \"https://github.com/scardenol/ai_2023/blob/main/2.%20Hybrid%20supervised/CNN/ourMNIST.zip?raw=true\"\n",
        "file_name = \"ourMNIST.zip\"\n",
        "file = urllib.request.urlretrieve(file_url, file_name)\n",
        "\n",
        "# Unzip folder\n",
        "!unzip ourMNIST.zip\n",
        "\n",
        "# Delete zip file\n",
        "!rm ourMNIST.zip"
      ],
      "metadata": {
        "colab": {
          "base_uri": "https://localhost:8080/"
        },
        "id": "iHySbco9lhAr",
        "outputId": "88df129e-a5bf-4be2-fce1-fb1a3b65780c"
      },
      "execution_count": null,
      "outputs": [
        {
          "output_type": "stream",
          "name": "stdout",
          "text": [
            "Archive:  ourMNIST.zip\n",
            "replace ourMNIST/cossio.csv? [y]es, [n]o, [A]ll, [N]one, [r]ename: y\n",
            " extracting: ourMNIST/cossio.csv     \n",
            "replace ourMNIST/cossio.png? [y]es, [n]o, [A]ll, [N]one, [r]ename: y\n",
            " extracting: ourMNIST/cossio.png     \n",
            "replace ourMNIST/FBanoy.png? [y]es, [n]o, [A]ll, [N]one, [r]ename: y\n",
            " extracting: ourMNIST/FBanoy.png     \n",
            "replace ourMNIST/jpossaz.png? [y]es, [n]o, [A]ll, [N]one, [r]ename: y\n",
            " extracting: ourMNIST/jpossaz.png    \n",
            "replace ourMNIST/jpossaz2.png? [y]es, [n]o, [A]ll, [N]one, [r]ename: y\n",
            " extracting: ourMNIST/jpossaz2.png   \n",
            "replace ourMNIST/JuanRengifo.png? [y]es, [n]o, [A]ll, [N]one, [r]ename: y\n",
            " extracting: ourMNIST/JuanRengifo.png  \n",
            "replace ourMNIST/load.py? [y]es, [n]o, [A]ll, [N]one, [r]ename: y\n",
            " extracting: ourMNIST/load.py        \n",
            "replace ourMNIST/thoyosg.png? [y]es, [n]o, [A]ll, [N]one, [r]ename: y\n",
            " extracting: ourMNIST/thoyosg.png    \n"
          ]
        }
      ]
    },
    {
      "cell_type": "markdown",
      "source": [
        "\n",
        "\n",
        "```\n",
        "# Esto tiene formato de código\n",
        "```\n",
        "\n"
      ],
      "metadata": {
        "id": "_gqtMDoQ6auK"
      }
    },
    {
      "cell_type": "code",
      "source": [
        "# locates the files\n",
        "%cd /content/ourMNIST "
      ],
      "metadata": {
        "colab": {
          "base_uri": "https://localhost:8080/"
        },
        "id": "73M0UZVxlpeI",
        "outputId": "1a433a43-b3b1-4833-cbe5-af766b3adb12"
      },
      "execution_count": null,
      "outputs": [
        {
          "output_type": "stream",
          "name": "stdout",
          "text": [
            "/content/ourMNIST\n"
          ]
        }
      ]
    },
    {
      "cell_type": "code",
      "source": [
        "#load the image divition and layer asignation algorithm\n",
        "import load\n",
        "images, labels = load.load_all()"
      ],
      "metadata": {
        "id": "VtUliE0Rlq_9"
      },
      "execution_count": null,
      "outputs": []
    },
    {
      "cell_type": "code",
      "source": [
        "#creates assignations for test and training\n",
        "rp=np.random.permutation(len(labels))\n",
        "\n",
        "subset_size = int(0.8 * len(rp))\n",
        "subset_indices = rp[:subset_size]\n",
        "train_image = [images[i] for i in subset_indices]\n",
        "train_labels = [labels[i] for i in subset_indices]\n",
        "train_labels = np.array(train_labels)\n",
        "train_labels= train_labels.astype(np.uint8)\n",
        "test_image = [images[i] for i in rp if i not in subset_indices]\n",
        "test_labels = [labels[i] for i in rp if i not in subset_indices]\n",
        "test_labels = np.array(test_labels)\n",
        "test_labels= test_labels.astype(np.uint8)"
      ],
      "metadata": {
        "id": "lvL7P1GqkJJE"
      },
      "execution_count": null,
      "outputs": []
    },
    {
      "cell_type": "code",
      "source": [
        "train_image = tf.expand_dims(train_image, 3)\n",
        "test_image= tf.expand_dims(test_image, 3)\n",
        "val_x = train_image[:5000]\n",
        "val_y = train_labels[:5000]"
      ],
      "metadata": {
        "id": "N55tYFnfnJgh"
      },
      "execution_count": null,
      "outputs": []
    },
    {
      "cell_type": "code",
      "source": [
        "#LeNet 5 by Keras in tensor flow package\n",
        "lenet_5_model = keras.models.Sequential([\n",
        "    keras.layers.Conv2D(6, kernel_size=5, strides=1,  activation='tanh', input_shape=train_image[0].shape, padding='same'), #C1\n",
        "    keras.layers.AveragePooling2D(), #S2\n",
        "    keras.layers.Conv2D(16, kernel_size=5, strides=1, activation='tanh', padding='valid'), #C3\n",
        "    keras.layers.AveragePooling2D(), #S4\n",
        "    keras.layers.Flatten(), #Flatten\n",
        "    keras.layers.Dense(120, activation='tanh'), #C5\n",
        "    keras.layers.Dense(84, activation='tanh'), #F6\n",
        "    keras.layers.Dense(10, activation='softmax') #Output layer\n",
        "])"
      ],
      "metadata": {
        "id": "9ktBJbTEo_fp"
      },
      "execution_count": null,
      "outputs": []
    },
    {
      "cell_type": "code",
      "source": [
        "#creates a LeNet 5 model with some especifications\n",
        "lenet_5_model.compile(optimizer='adam', loss=keras.losses.sparse_categorical_crossentropy, metrics=['accuracy'])"
      ],
      "metadata": {
        "id": "IsE4SISqpDfv"
      },
      "execution_count": null,
      "outputs": []
    },
    {
      "cell_type": "code",
      "source": [
        "# runs the model and assings the validation from some test data equal of 10% of the training data\n",
        "history =  lenet_5_model.fit(train_image, train_labels, epochs=10, validation_split = 0.1)"
      ],
      "metadata": {
        "colab": {
          "base_uri": "https://localhost:8080/"
        },
        "id": "SR_ptLhQpJNr",
        "outputId": "61c32ca6-8359-42d8-abde-3578e78255fc"
      },
      "execution_count": null,
      "outputs": [
        {
          "output_type": "stream",
          "name": "stdout",
          "text": [
            "Epoch 1/10\n",
            "14/14 [==============================] - 3s 52ms/step - loss: 2.2998 - accuracy: 0.1048 - val_loss: 2.2897 - val_accuracy: 0.2041\n",
            "Epoch 2/10\n",
            "14/14 [==============================] - 0s 30ms/step - loss: 2.1625 - accuracy: 0.2984 - val_loss: 2.2264 - val_accuracy: 0.2245\n",
            "Epoch 3/10\n",
            "14/14 [==============================] - 0s 32ms/step - loss: 1.9227 - accuracy: 0.3941 - val_loss: 1.9424 - val_accuracy: 0.3469\n",
            "Epoch 4/10\n",
            "14/14 [==============================] - 1s 43ms/step - loss: 1.6244 - accuracy: 0.4806 - val_loss: 1.8495 - val_accuracy: 0.3673\n",
            "Epoch 5/10\n",
            "14/14 [==============================] - 1s 52ms/step - loss: 1.4268 - accuracy: 0.5513 - val_loss: 1.7642 - val_accuracy: 0.3878\n",
            "Epoch 6/10\n",
            "14/14 [==============================] - 1s 53ms/step - loss: 1.2959 - accuracy: 0.5695 - val_loss: 1.7734 - val_accuracy: 0.3673\n",
            "Epoch 7/10\n",
            "14/14 [==============================] - 1s 51ms/step - loss: 1.2170 - accuracy: 0.6150 - val_loss: 1.7595 - val_accuracy: 0.3878\n",
            "Epoch 8/10\n",
            "14/14 [==============================] - 1s 45ms/step - loss: 1.1454 - accuracy: 0.6310 - val_loss: 1.7197 - val_accuracy: 0.3673\n",
            "Epoch 9/10\n",
            "14/14 [==============================] - 0s 30ms/step - loss: 1.0828 - accuracy: 0.6469 - val_loss: 1.7039 - val_accuracy: 0.3878\n",
            "Epoch 10/10\n",
            "14/14 [==============================] - 0s 30ms/step - loss: 1.0250 - accuracy: 0.6720 - val_loss: 1.6573 - val_accuracy: 0.3878\n"
          ]
        }
      ]
    },
    {
      "cell_type": "code",
      "source": [
        "#plots the metrics\n",
        "_, train_acc = lenet_5_model.evaluate(train_image, train_labels, verbose=0)\n",
        "_, test_acc = lenet_5_model.evaluate(test_image, test_labels, verbose=0)\n",
        "print('Train: %.3f, Test: %.3f' % (train_acc, test_acc))\n",
        "# plot loss during training\n",
        "plt.subplot(211)\n",
        "plt.title('Loss')\n",
        "plt.plot(history.history['loss'], label='train')\n",
        "plt.plot(history.history['val_loss'], label='validation')\n",
        "plt.legend()\n",
        "# plot accuracy during training\n",
        "plt.subplot(212)\n",
        "plt.title('Accuracy')\n",
        "plt.plot(history.history['accuracy'], label='train')\n",
        "plt.plot(history.history['val_accuracy'], label='validation')\n",
        "plt.legend()\n",
        "plt.tight_layout(pad=1.0)\n",
        "plt.show()\n",
        "plt.savefig('/content/loss.png')"
      ],
      "metadata": {
        "colab": {
          "base_uri": "https://localhost:8080/",
          "height": 334
        },
        "id": "OfXDPc-EqJ3w",
        "outputId": "8e8d6c12-734d-43ed-f020-2037f947bf1c"
      },
      "execution_count": null,
      "outputs": [
        {
          "output_type": "stream",
          "name": "stdout",
          "text": [
            "Train: 0.670, Test: 0.459\n"
          ]
        },
        {
          "output_type": "display_data",
          "data": {
            "text/plain": [
              "<Figure size 432x288 with 2 Axes>"
            ],
            "image/png": "[encoded data removed]"
          },
          "metadata": {
            "needs_background": "light"
          }
        },
        {
          "output_type": "display_data",
          "data": {
            "text/plain": [
              "<Figure size 432x288 with 0 Axes>"
            ]
          },
          "metadata": {}
        }
      ]
    }
  ]
}