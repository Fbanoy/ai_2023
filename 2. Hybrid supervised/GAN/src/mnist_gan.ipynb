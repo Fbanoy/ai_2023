{
  "nbformat": 4,
  "nbformat_minor": 0,
  "metadata": {
    "colab": {
      "provenance": [],
      "include_colab_link": true
    },
    "kernelspec": {
      "name": "python3",
      "display_name": "Python 3"
    },
    "accelerator": "GPU"
  },
  "cells": [
    {
      "cell_type": "markdown",
      "metadata": {
        "id": "view-in-github",
        "colab_type": "text"
      },
      "source": [
        "<a href=\"https://colab.research.google.com/github/scardenol/ai_2023/blob/main/2.%20Hybrid%20supervised/GAN/src/mnist_gan.ipynb\" target=\"_parent\"><img src=\"https://colab.research.google.com/assets/colab-badge.svg\" alt=\"Open In Colab\"/></a>"
      ]
    },
    {
      "cell_type": "code",
      "metadata": {
        "id": "IG4Ii5D7Wpy_",
        "colab": {
          "base_uri": "https://localhost:8080/"
        },
        "outputId": "80b29422-cb7e-485d-f09d-07524a91199f"
      },
      "source": [
        "!mkdir input\n",
        "!mkdir outputs"
      ],
      "execution_count": 35,
      "outputs": [
        {
          "output_type": "stream",
          "name": "stdout",
          "text": [
            "mkdir: cannot create directory ‘input’: File exists\n",
            "mkdir: cannot create directory ‘outputs’: File exists\n"
          ]
        }
      ]
    },
    {
      "cell_type": "code",
      "metadata": {
        "colab": {
          "base_uri": "https://localhost:8080/"
        },
        "id": "nqKLmvRJVnc3",
        "outputId": "f10c7c67-98f0-4a9d-f4a8-18252800995b"
      },
      "source": [
        "%%writefile vanilla_gan.py"
      ],
      "execution_count": 36,
      "outputs": [
        {
          "output_type": "stream",
          "name": "stdout",
          "text": [
            "Overwriting vanilla_gan.py\n"
          ]
        }
      ]
    },
    {
      "cell_type": "code",
      "source": [
        "import torch\n",
        "import torch.nn as nn\n",
        "import torchvision.transforms as transforms\n",
        "import torch.optim as optim\n",
        "import torchvision.datasets as datasets\n",
        "import imageio\n",
        "import numpy as np\n",
        "import matplotlib\n",
        "\n",
        "from torchvision.utils import make_grid, save_image\n",
        "from torch.utils.data import DataLoader\n",
        "from matplotlib import pyplot as plt\n",
        "from tqdm import tqdm\n",
        "\n",
        "matplotlib.style.use('ggplot')\n",
        "\n",
        "# learning parameters\n",
        "batch_size = 512\n",
        "epochs = 200\n",
        "sample_size = 64 # fixed sample size\n",
        "nz = 128 # latent vector size\n",
        "k = 1 # number of steps to apply to the discriminator\n",
        "device = torch.device('cuda' if torch.cuda.is_available() else 'cpu')\n",
        "\n",
        "transform = transforms.Compose([\n",
        "                                transforms.ToTensor(),\n",
        "                                transforms.Normalize((0.5,),(0.5,)),\n",
        "])\n",
        "\n",
        "to_pil_image = transforms.ToPILImage()\n",
        "\n",
        "train_data = datasets.MNIST(\n",
        "    root='input/data',\n",
        "    train=True,\n",
        "    download=True,\n",
        "    transform=transform\n",
        ")\n",
        "train_loader = DataLoader(train_data, batch_size=batch_size, shuffle=True)\n",
        "\n",
        "class Generator(nn.Module):\n",
        "    def __init__(self, nz):\n",
        "        super(Generator, self).__init__()\n",
        "        self.nz = nz\n",
        "        self.main = nn.Sequential(\n",
        "            nn.Linear(self.nz, 256),\n",
        "            nn.LeakyReLU(0.2),\n",
        "\n",
        "            nn.Linear(256, 512),\n",
        "            nn.LeakyReLU(0.2),\n",
        "\n",
        "            nn.Linear(512, 1024),\n",
        "            nn.LeakyReLU(0.2),\n",
        "\n",
        "            nn.Linear(1024, 784),\n",
        "            nn.Tanh(),\n",
        "        )\n",
        "\n",
        "    def forward(self, x):\n",
        "        return self.main(x).view(-1, 1, 28, 28)\n",
        "\n",
        "class Discriminator(nn.Module):\n",
        "    def __init__(self):\n",
        "        super(Discriminator, self).__init__()\n",
        "        self.n_input = 784\n",
        "        self.main = nn.Sequential(\n",
        "            nn.Linear(self.n_input, 1024),\n",
        "            nn.LeakyReLU(0.2),\n",
        "            nn.Dropout(0.3),\n",
        "\n",
        "            nn.Linear(1024, 512),\n",
        "            nn.LeakyReLU(0.2),\n",
        "            nn.Dropout(0.3),\n",
        "\n",
        "            nn.Linear(512, 256),\n",
        "            nn.LeakyReLU(0.2),\n",
        "            nn.Dropout(0.3),\n",
        "\n",
        "            nn.Linear(256, 1),\n",
        "            nn.Sigmoid(),\n",
        "        )\n",
        "\n",
        "    def forward(self, x):\n",
        "        x = x.view(-1, 784)\n",
        "        return self.main(x)\n",
        "\n",
        "generator = Generator(nz).to(device)\n",
        "discriminator = Discriminator().to(device)\n",
        "\n",
        "print('##### GENERATOR #####')\n",
        "print(generator)\n",
        "print('######################')\n",
        "\n",
        "print('\\n##### DISCRIMINATOR #####')\n",
        "print(discriminator)\n",
        "print('######################')\n",
        "\n",
        "# optimizers\n",
        "optim_g = optim.Adam(generator.parameters(), lr=0.0002)\n",
        "optim_d = optim.Adam(discriminator.parameters(), lr=0.0002)\n",
        "\n",
        "# loss function\n",
        "criterion = nn.BCELoss()\n",
        "\n",
        "losses_g = [] # to store generator loss after each epoch\n",
        "losses_d = [] # to store discriminator loss after each epoch\n",
        "images = [] # to store images generatd by the generator\n",
        "\n",
        "# to create real labels (1s)\n",
        "def label_real(size):\n",
        "    data = torch.ones(size, 1)\n",
        "    return data.to(device)\n",
        "\n",
        "# to create fake labels (0s)\n",
        "def label_fake(size):\n",
        "    data = torch.zeros(size, 1)\n",
        "    return data.to(device)\n",
        "\n",
        "# function to create the noise vector\n",
        "def create_noise(sample_size, nz):\n",
        "    return torch.randn(sample_size, nz).to(device)\n",
        "\n",
        "# to save the images generated by the generator\n",
        "def save_generator_image(image, path):\n",
        "    save_image(image, path)\n",
        "\n",
        "# function to train the discriminator network\n",
        "def train_discriminator(optimizer, data_real, data_fake):\n",
        "    b_size = data_real.size(0)\n",
        "    real_label = label_real(b_size)\n",
        "    fake_label = label_fake(b_size)\n",
        "\n",
        "    optimizer.zero_grad()\n",
        "\n",
        "    output_real = discriminator(data_real)\n",
        "    loss_real = criterion(output_real, real_label)\n",
        "\n",
        "    output_fake = discriminator(data_fake)\n",
        "    loss_fake = criterion(output_fake, fake_label)\n",
        "\n",
        "\n",
        "    loss_real.backward()\n",
        "    loss_fake.backward()\n",
        "    optimizer.step()\n",
        "\n",
        "    return loss_real + loss_fake\n",
        "\n",
        "# function to train the generator network\n",
        "def train_generator(optimizer, data_fake):\n",
        "    b_size = data_fake.size(0)\n",
        "    real_label = label_real(b_size)\n",
        "\n",
        "    optimizer.zero_grad()\n",
        "\n",
        "    output = discriminator(data_fake)\n",
        "    loss = criterion(output, real_label)\n",
        "\n",
        "    loss.backward()\n",
        "    optimizer.step()\n",
        "\n",
        "    return loss    \n",
        "\n",
        "# create the noise vector\n",
        "noise = create_noise(sample_size, nz)\n",
        "\n",
        "generator.train()\n",
        "discriminator.train()\n",
        "\n",
        "for epoch in range(epochs):\n",
        "    loss_g = 0.0\n",
        "    loss_d = 0.0\n",
        "    for bi, data in tqdm(enumerate(train_loader), total=int(len(train_data)/train_loader.batch_size)):\n",
        "        image, _ = data\n",
        "        image = image.to(device)\n",
        "        b_size = len(image)\n",
        "        # run the discriminator for k number of steps\n",
        "        for step in range(k):\n",
        "            data_fake = generator(create_noise(b_size, nz)).detach()\n",
        "            data_real = image\n",
        "            # train the discriminator network\n",
        "            loss_d += train_discriminator(optim_d, data_real, data_fake)\n",
        "        data_fake = generator(create_noise(b_size, nz))\n",
        "        # train the generator network\n",
        "        loss_g += train_generator(optim_g, data_fake)\n",
        "\n",
        "    # create the final fake image for the epoch\n",
        "    generated_img = generator(noise).cpu().detach()\n",
        "    # make the images as grid\n",
        "    generated_img = make_grid(generated_img)\n",
        "    # save the generated torch tensor models to disk\n",
        "    save_generator_image(generated_img, f\"outputs/gen_img{epoch}.png\")\n",
        "    images.append(generated_img)\n",
        "    epoch_loss_g = loss_g / bi # total generator loss for the epoch\n",
        "    epoch_loss_d = loss_d / bi # total discriminator loss for the epoch\n",
        "    losses_g.append(epoch_loss_g)\n",
        "    losses_d.append(epoch_loss_d)\n",
        "    \n",
        "    print(f\"Epoch {epoch} of {epochs}\")\n",
        "    print(f\"Generator loss: {epoch_loss_g:.8f}, Discriminator loss: {epoch_loss_d:.8f}\")\n",
        "\n",
        "print('DONE TRAINING')\n",
        "torch.save(generator.state_dict(), 'outputs/generator.pth')\n",
        "\n",
        "# save the generated images as GIF file\n",
        "imgs = [np.array(to_pil_image(img)) for img in images]\n",
        "imageio.mimsave('outputs/generator_images.gif', imgs)\n",
        "\n",
        "# plot and save the generator and discriminator loss\n",
        "#plt.figure()\n",
        "#plt.plot(losses_g, label='Generator loss')\n",
        "#plt.plot(losses_d, label='Discriminator Loss')\n",
        "#plt.legend()\n",
        "#plt.savefig('outputs/loss.png')"
      ],
      "metadata": {
        "colab": {
          "base_uri": "https://localhost:8080/"
        },
        "id": "oNAp0mY0qBeJ",
        "outputId": "d3b9dc85-3dfb-4ee9-c380-a6a05e7cf290"
      },
      "execution_count": 37,
      "outputs": [
        {
          "output_type": "stream",
          "name": "stdout",
          "text": [
            "##### GENERATOR #####\n",
            "Generator(\n",
            "  (main): Sequential(\n",
            "    (0): Linear(in_features=128, out_features=256, bias=True)\n",
            "    (1): LeakyReLU(negative_slope=0.2)\n",
            "    (2): Linear(in_features=256, out_features=512, bias=True)\n",
            "    (3): LeakyReLU(negative_slope=0.2)\n",
            "    (4): Linear(in_features=512, out_features=1024, bias=True)\n",
            "    (5): LeakyReLU(negative_slope=0.2)\n",
            "    (6): Linear(in_features=1024, out_features=784, bias=True)\n",
            "    (7): Tanh()\n",
            "  )\n",
            ")\n",
            "######################\n",
            "\n",
            "##### DISCRIMINATOR #####\n",
            "Discriminator(\n",
            "  (main): Sequential(\n",
            "    (0): Linear(in_features=784, out_features=1024, bias=True)\n",
            "    (1): LeakyReLU(negative_slope=0.2)\n",
            "    (2): Dropout(p=0.3, inplace=False)\n",
            "    (3): Linear(in_features=1024, out_features=512, bias=True)\n",
            "    (4): LeakyReLU(negative_slope=0.2)\n",
            "    (5): Dropout(p=0.3, inplace=False)\n",
            "    (6): Linear(in_features=512, out_features=256, bias=True)\n",
            "    (7): LeakyReLU(negative_slope=0.2)\n",
            "    (8): Dropout(p=0.3, inplace=False)\n",
            "    (9): Linear(in_features=256, out_features=1, bias=True)\n",
            "    (10): Sigmoid()\n",
            "  )\n",
            ")\n",
            "######################\n"
          ]
        },
        {
          "output_type": "stream",
          "name": "stderr",
          "text": [
            "118it [00:17,  6.74it/s]                         \n"
          ]
        },
        {
          "output_type": "stream",
          "name": "stdout",
          "text": [
            "Epoch 0 of 200\n",
            "Generator loss: 1.34028637, Discriminator loss: 0.91250199\n"
          ]
        },
        {
          "output_type": "stream",
          "name": "stderr",
          "text": [
            "118it [00:17,  6.71it/s]                         \n"
          ]
        },
        {
          "output_type": "stream",
          "name": "stdout",
          "text": [
            "Epoch 1 of 200\n",
            "Generator loss: 2.23499084, Discriminator loss: 1.31741405\n"
          ]
        },
        {
          "output_type": "stream",
          "name": "stderr",
          "text": [
            "118it [00:16,  7.08it/s]                         \n"
          ]
        },
        {
          "output_type": "stream",
          "name": "stdout",
          "text": [
            "Epoch 2 of 200\n",
            "Generator loss: 3.19724393, Discriminator loss: 0.78439420\n"
          ]
        },
        {
          "output_type": "stream",
          "name": "stderr",
          "text": [
            "118it [00:16,  7.16it/s]                         \n"
          ]
        },
        {
          "output_type": "stream",
          "name": "stdout",
          "text": [
            "Epoch 3 of 200\n",
            "Generator loss: 3.46748114, Discriminator loss: 0.88423818\n"
          ]
        },
        {
          "output_type": "stream",
          "name": "stderr",
          "text": [
            "118it [00:17,  6.77it/s]                         \n"
          ]
        },
        {
          "output_type": "stream",
          "name": "stdout",
          "text": [
            "Epoch 4 of 200\n",
            "Generator loss: 4.61785603, Discriminator loss: 0.51729137\n"
          ]
        },
        {
          "output_type": "stream",
          "name": "stderr",
          "text": [
            "118it [00:17,  6.93it/s]                         \n"
          ]
        },
        {
          "output_type": "stream",
          "name": "stdout",
          "text": [
            "Epoch 5 of 200\n",
            "Generator loss: 1.80271292, Discriminator loss: 1.01565516\n"
          ]
        },
        {
          "output_type": "stream",
          "name": "stderr",
          "text": [
            "118it [00:17,  6.78it/s]                         \n"
          ]
        },
        {
          "output_type": "stream",
          "name": "stdout",
          "text": [
            "Epoch 6 of 200\n",
            "Generator loss: 2.30752373, Discriminator loss: 1.10123885\n"
          ]
        },
        {
          "output_type": "stream",
          "name": "stderr",
          "text": [
            "118it [00:17,  6.67it/s]                         \n"
          ]
        },
        {
          "output_type": "stream",
          "name": "stdout",
          "text": [
            "Epoch 7 of 200\n",
            "Generator loss: 1.72195613, Discriminator loss: 1.10023463\n"
          ]
        },
        {
          "output_type": "stream",
          "name": "stderr",
          "text": [
            "118it [00:17,  6.90it/s]                         \n"
          ]
        },
        {
          "output_type": "stream",
          "name": "stdout",
          "text": [
            "Epoch 8 of 200\n",
            "Generator loss: 2.40377879, Discriminator loss: 1.06883156\n"
          ]
        },
        {
          "output_type": "stream",
          "name": "stderr",
          "text": [
            "118it [00:17,  6.71it/s]                         \n"
          ]
        },
        {
          "output_type": "stream",
          "name": "stdout",
          "text": [
            "Epoch 9 of 200\n",
            "Generator loss: 1.65498924, Discriminator loss: 0.93050343\n"
          ]
        },
        {
          "output_type": "stream",
          "name": "stderr",
          "text": [
            "118it [00:16,  7.10it/s]                         \n"
          ]
        },
        {
          "output_type": "stream",
          "name": "stdout",
          "text": [
            "Epoch 10 of 200\n",
            "Generator loss: 3.41399193, Discriminator loss: 0.99350065\n"
          ]
        },
        {
          "output_type": "stream",
          "name": "stderr",
          "text": [
            "118it [00:16,  7.07it/s]                         \n"
          ]
        },
        {
          "output_type": "stream",
          "name": "stdout",
          "text": [
            "Epoch 11 of 200\n",
            "Generator loss: 1.18775010, Discriminator loss: 1.26000988\n"
          ]
        },
        {
          "output_type": "stream",
          "name": "stderr",
          "text": [
            "118it [00:17,  6.74it/s]                         \n"
          ]
        },
        {
          "output_type": "stream",
          "name": "stdout",
          "text": [
            "Epoch 12 of 200\n",
            "Generator loss: 1.39976180, Discriminator loss: 1.01246798\n"
          ]
        },
        {
          "output_type": "stream",
          "name": "stderr",
          "text": [
            "118it [00:16,  7.11it/s]                         \n"
          ]
        },
        {
          "output_type": "stream",
          "name": "stdout",
          "text": [
            "Epoch 13 of 200\n",
            "Generator loss: 0.92195332, Discriminator loss: 1.26196253\n"
          ]
        },
        {
          "output_type": "stream",
          "name": "stderr",
          "text": [
            "118it [00:16,  7.01it/s]                         \n"
          ]
        },
        {
          "output_type": "stream",
          "name": "stdout",
          "text": [
            "Epoch 14 of 200\n",
            "Generator loss: 2.12565398, Discriminator loss: 0.94445187\n"
          ]
        },
        {
          "output_type": "stream",
          "name": "stderr",
          "text": [
            "118it [00:17,  6.90it/s]                         \n"
          ]
        },
        {
          "output_type": "stream",
          "name": "stdout",
          "text": [
            "Epoch 15 of 200\n",
            "Generator loss: 1.92791784, Discriminator loss: 0.91344130\n"
          ]
        },
        {
          "output_type": "stream",
          "name": "stderr",
          "text": [
            "118it [00:16,  7.08it/s]                         \n"
          ]
        },
        {
          "output_type": "stream",
          "name": "stdout",
          "text": [
            "Epoch 16 of 200\n",
            "Generator loss: 1.49934781, Discriminator loss: 0.97698510\n"
          ]
        },
        {
          "output_type": "stream",
          "name": "stderr",
          "text": [
            "118it [00:17,  6.87it/s]                         \n"
          ]
        },
        {
          "output_type": "stream",
          "name": "stdout",
          "text": [
            "Epoch 17 of 200\n",
            "Generator loss: 2.09065962, Discriminator loss: 1.16505396\n"
          ]
        },
        {
          "output_type": "stream",
          "name": "stderr",
          "text": [
            "118it [00:16,  7.01it/s]                         \n"
          ]
        },
        {
          "output_type": "stream",
          "name": "stdout",
          "text": [
            "Epoch 18 of 200\n",
            "Generator loss: 1.75608313, Discriminator loss: 0.80992496\n"
          ]
        },
        {
          "output_type": "stream",
          "name": "stderr",
          "text": [
            "118it [00:16,  7.02it/s]                         \n"
          ]
        },
        {
          "output_type": "stream",
          "name": "stdout",
          "text": [
            "Epoch 19 of 200\n",
            "Generator loss: 1.98314643, Discriminator loss: 0.83172244\n"
          ]
        },
        {
          "output_type": "stream",
          "name": "stderr",
          "text": [
            "118it [00:17,  6.80it/s]                         \n"
          ]
        },
        {
          "output_type": "stream",
          "name": "stdout",
          "text": [
            "Epoch 20 of 200\n",
            "Generator loss: 2.69858789, Discriminator loss: 0.76892686\n"
          ]
        },
        {
          "output_type": "stream",
          "name": "stderr",
          "text": [
            "118it [00:16,  6.98it/s]                         \n"
          ]
        },
        {
          "output_type": "stream",
          "name": "stdout",
          "text": [
            "Epoch 21 of 200\n",
            "Generator loss: 2.01824546, Discriminator loss: 0.78624576\n"
          ]
        },
        {
          "output_type": "stream",
          "name": "stderr",
          "text": [
            "118it [00:16,  7.10it/s]                         \n"
          ]
        },
        {
          "output_type": "stream",
          "name": "stdout",
          "text": [
            "Epoch 22 of 200\n",
            "Generator loss: 2.57686591, Discriminator loss: 0.63167179\n"
          ]
        },
        {
          "output_type": "stream",
          "name": "stderr",
          "text": [
            "118it [00:17,  6.79it/s]                         \n"
          ]
        },
        {
          "output_type": "stream",
          "name": "stdout",
          "text": [
            "Epoch 23 of 200\n",
            "Generator loss: 2.44203043, Discriminator loss: 0.59121644\n"
          ]
        },
        {
          "output_type": "stream",
          "name": "stderr",
          "text": [
            "118it [00:16,  7.08it/s]                         \n"
          ]
        },
        {
          "output_type": "stream",
          "name": "stdout",
          "text": [
            "Epoch 24 of 200\n",
            "Generator loss: 2.54161549, Discriminator loss: 0.65475959\n"
          ]
        },
        {
          "output_type": "stream",
          "name": "stderr",
          "text": [
            "118it [00:16,  7.04it/s]                         \n"
          ]
        },
        {
          "output_type": "stream",
          "name": "stdout",
          "text": [
            "Epoch 25 of 200\n",
            "Generator loss: 2.19707632, Discriminator loss: 0.75732797\n"
          ]
        },
        {
          "output_type": "stream",
          "name": "stderr",
          "text": [
            "118it [00:17,  6.78it/s]                         \n"
          ]
        },
        {
          "output_type": "stream",
          "name": "stdout",
          "text": [
            "Epoch 26 of 200\n",
            "Generator loss: 2.34816933, Discriminator loss: 0.56657952\n"
          ]
        },
        {
          "output_type": "stream",
          "name": "stderr",
          "text": [
            "118it [00:16,  7.07it/s]                         \n"
          ]
        },
        {
          "output_type": "stream",
          "name": "stdout",
          "text": [
            "Epoch 27 of 200\n",
            "Generator loss: 2.96534967, Discriminator loss: 0.52326018\n"
          ]
        },
        {
          "output_type": "stream",
          "name": "stderr",
          "text": [
            "118it [00:17,  6.86it/s]                         \n"
          ]
        },
        {
          "output_type": "stream",
          "name": "stdout",
          "text": [
            "Epoch 28 of 200\n",
            "Generator loss: 3.03183460, Discriminator loss: 0.54079437\n"
          ]
        },
        {
          "output_type": "stream",
          "name": "stderr",
          "text": [
            "118it [00:16,  7.01it/s]                         \n"
          ]
        },
        {
          "output_type": "stream",
          "name": "stdout",
          "text": [
            "Epoch 29 of 200\n",
            "Generator loss: 2.34611964, Discriminator loss: 0.63305175\n"
          ]
        },
        {
          "output_type": "stream",
          "name": "stderr",
          "text": [
            "118it [00:16,  7.01it/s]                         \n"
          ]
        },
        {
          "output_type": "stream",
          "name": "stdout",
          "text": [
            "Epoch 30 of 200\n",
            "Generator loss: 2.63266516, Discriminator loss: 0.64191651\n"
          ]
        },
        {
          "output_type": "stream",
          "name": "stderr",
          "text": [
            "118it [00:17,  6.70it/s]                         \n"
          ]
        },
        {
          "output_type": "stream",
          "name": "stdout",
          "text": [
            "Epoch 31 of 200\n",
            "Generator loss: 2.56275105, Discriminator loss: 0.57611036\n"
          ]
        },
        {
          "output_type": "stream",
          "name": "stderr",
          "text": [
            "118it [00:16,  7.11it/s]                         \n"
          ]
        },
        {
          "output_type": "stream",
          "name": "stdout",
          "text": [
            "Epoch 32 of 200\n",
            "Generator loss: 2.42170715, Discriminator loss: 0.66609341\n"
          ]
        },
        {
          "output_type": "stream",
          "name": "stderr",
          "text": [
            "118it [00:17,  6.94it/s]                         \n"
          ]
        },
        {
          "output_type": "stream",
          "name": "stdout",
          "text": [
            "Epoch 33 of 200\n",
            "Generator loss: 1.89113772, Discriminator loss: 0.74009764\n"
          ]
        },
        {
          "output_type": "stream",
          "name": "stderr",
          "text": [
            "118it [00:17,  6.68it/s]                         \n"
          ]
        },
        {
          "output_type": "stream",
          "name": "stdout",
          "text": [
            "Epoch 34 of 200\n",
            "Generator loss: 2.48327518, Discriminator loss: 0.58176816\n"
          ]
        },
        {
          "output_type": "stream",
          "name": "stderr",
          "text": [
            "118it [00:17,  6.87it/s]                         \n"
          ]
        },
        {
          "output_type": "stream",
          "name": "stdout",
          "text": [
            "Epoch 35 of 200\n",
            "Generator loss: 2.34133339, Discriminator loss: 0.59073865\n"
          ]
        },
        {
          "output_type": "stream",
          "name": "stderr",
          "text": [
            "118it [00:17,  6.71it/s]                         \n"
          ]
        },
        {
          "output_type": "stream",
          "name": "stdout",
          "text": [
            "Epoch 36 of 200\n",
            "Generator loss: 2.30751395, Discriminator loss: 0.64506465\n"
          ]
        },
        {
          "output_type": "stream",
          "name": "stderr",
          "text": [
            "118it [00:16,  7.05it/s]                         \n"
          ]
        },
        {
          "output_type": "stream",
          "name": "stdout",
          "text": [
            "Epoch 37 of 200\n",
            "Generator loss: 2.61277604, Discriminator loss: 0.56418997\n"
          ]
        },
        {
          "output_type": "stream",
          "name": "stderr",
          "text": [
            "118it [00:16,  6.95it/s]                         \n"
          ]
        },
        {
          "output_type": "stream",
          "name": "stdout",
          "text": [
            "Epoch 38 of 200\n",
            "Generator loss: 2.64351344, Discriminator loss: 0.54607809\n"
          ]
        },
        {
          "output_type": "stream",
          "name": "stderr",
          "text": [
            "118it [00:17,  6.74it/s]                         \n"
          ]
        },
        {
          "output_type": "stream",
          "name": "stdout",
          "text": [
            "Epoch 39 of 200\n",
            "Generator loss: 2.56052232, Discriminator loss: 0.53301460\n"
          ]
        },
        {
          "output_type": "stream",
          "name": "stderr",
          "text": [
            "118it [00:16,  7.17it/s]                         \n"
          ]
        },
        {
          "output_type": "stream",
          "name": "stdout",
          "text": [
            "Epoch 40 of 200\n",
            "Generator loss: 2.55797815, Discriminator loss: 0.59009075\n"
          ]
        },
        {
          "output_type": "stream",
          "name": "stderr",
          "text": [
            "118it [00:16,  7.12it/s]                         \n"
          ]
        },
        {
          "output_type": "stream",
          "name": "stdout",
          "text": [
            "Epoch 41 of 200\n",
            "Generator loss: 2.27607036, Discriminator loss: 0.71731693\n"
          ]
        },
        {
          "output_type": "stream",
          "name": "stderr",
          "text": [
            "118it [00:17,  6.75it/s]                         \n"
          ]
        },
        {
          "output_type": "stream",
          "name": "stdout",
          "text": [
            "Epoch 42 of 200\n",
            "Generator loss: 2.31827736, Discriminator loss: 0.63340479\n"
          ]
        },
        {
          "output_type": "stream",
          "name": "stderr",
          "text": [
            "118it [00:16,  7.05it/s]                         \n"
          ]
        },
        {
          "output_type": "stream",
          "name": "stdout",
          "text": [
            "Epoch 43 of 200\n",
            "Generator loss: 2.27243996, Discriminator loss: 0.60363489\n"
          ]
        },
        {
          "output_type": "stream",
          "name": "stderr",
          "text": [
            "118it [00:16,  7.02it/s]                         \n"
          ]
        },
        {
          "output_type": "stream",
          "name": "stdout",
          "text": [
            "Epoch 44 of 200\n",
            "Generator loss: 2.52668643, Discriminator loss: 0.53549010\n"
          ]
        },
        {
          "output_type": "stream",
          "name": "stderr",
          "text": [
            "118it [00:17,  6.75it/s]                         \n"
          ]
        },
        {
          "output_type": "stream",
          "name": "stdout",
          "text": [
            "Epoch 45 of 200\n",
            "Generator loss: 2.47957110, Discriminator loss: 0.65219885\n"
          ]
        },
        {
          "output_type": "stream",
          "name": "stderr",
          "text": [
            "118it [00:16,  7.01it/s]                         \n"
          ]
        },
        {
          "output_type": "stream",
          "name": "stdout",
          "text": [
            "Epoch 46 of 200\n",
            "Generator loss: 2.75380230, Discriminator loss: 0.56740928\n"
          ]
        },
        {
          "output_type": "stream",
          "name": "stderr",
          "text": [
            "118it [00:17,  6.77it/s]                         \n"
          ]
        },
        {
          "output_type": "stream",
          "name": "stdout",
          "text": [
            "Epoch 47 of 200\n",
            "Generator loss: 2.56388879, Discriminator loss: 0.59272736\n"
          ]
        },
        {
          "output_type": "stream",
          "name": "stderr",
          "text": [
            "118it [00:16,  6.95it/s]                         \n"
          ]
        },
        {
          "output_type": "stream",
          "name": "stdout",
          "text": [
            "Epoch 48 of 200\n",
            "Generator loss: 2.51472092, Discriminator loss: 0.65947431\n"
          ]
        },
        {
          "output_type": "stream",
          "name": "stderr",
          "text": [
            "118it [00:16,  6.96it/s]                         \n"
          ]
        },
        {
          "output_type": "stream",
          "name": "stdout",
          "text": [
            "Epoch 49 of 200\n",
            "Generator loss: 2.24999952, Discriminator loss: 0.64215708\n"
          ]
        },
        {
          "output_type": "stream",
          "name": "stderr",
          "text": [
            "118it [00:17,  6.79it/s]                         \n"
          ]
        },
        {
          "output_type": "stream",
          "name": "stdout",
          "text": [
            "Epoch 50 of 200\n",
            "Generator loss: 2.72806787, Discriminator loss: 0.52378476\n"
          ]
        },
        {
          "output_type": "stream",
          "name": "stderr",
          "text": [
            "118it [00:16,  7.07it/s]                         \n"
          ]
        },
        {
          "output_type": "stream",
          "name": "stdout",
          "text": [
            "Epoch 51 of 200\n",
            "Generator loss: 2.96786857, Discriminator loss: 0.49811730\n"
          ]
        },
        {
          "output_type": "stream",
          "name": "stderr",
          "text": [
            "118it [00:16,  7.08it/s]                         \n"
          ]
        },
        {
          "output_type": "stream",
          "name": "stdout",
          "text": [
            "Epoch 52 of 200\n",
            "Generator loss: 3.06722665, Discriminator loss: 0.57318252\n"
          ]
        },
        {
          "output_type": "stream",
          "name": "stderr",
          "text": [
            "118it [00:17,  6.78it/s]                         \n"
          ]
        },
        {
          "output_type": "stream",
          "name": "stdout",
          "text": [
            "Epoch 53 of 200\n",
            "Generator loss: 2.64020777, Discriminator loss: 0.57034433\n"
          ]
        },
        {
          "output_type": "stream",
          "name": "stderr",
          "text": [
            "118it [00:16,  7.06it/s]                         \n"
          ]
        },
        {
          "output_type": "stream",
          "name": "stdout",
          "text": [
            "Epoch 54 of 200\n",
            "Generator loss: 2.90832686, Discriminator loss: 0.56511641\n"
          ]
        },
        {
          "output_type": "stream",
          "name": "stderr",
          "text": [
            "118it [00:16,  7.25it/s]                         \n"
          ]
        },
        {
          "output_type": "stream",
          "name": "stdout",
          "text": [
            "Epoch 55 of 200\n",
            "Generator loss: 2.93037510, Discriminator loss: 0.58318043\n"
          ]
        },
        {
          "output_type": "stream",
          "name": "stderr",
          "text": [
            "118it [00:17,  6.82it/s]                         \n"
          ]
        },
        {
          "output_type": "stream",
          "name": "stdout",
          "text": [
            "Epoch 56 of 200\n",
            "Generator loss: 2.75329924, Discriminator loss: 0.53873372\n"
          ]
        },
        {
          "output_type": "stream",
          "name": "stderr",
          "text": [
            "118it [00:16,  7.20it/s]                         \n"
          ]
        },
        {
          "output_type": "stream",
          "name": "stdout",
          "text": [
            "Epoch 57 of 200\n",
            "Generator loss: 2.68326163, Discriminator loss: 0.54044795\n"
          ]
        },
        {
          "output_type": "stream",
          "name": "stderr",
          "text": [
            "118it [00:16,  7.19it/s]                         \n"
          ]
        },
        {
          "output_type": "stream",
          "name": "stdout",
          "text": [
            "Epoch 58 of 200\n",
            "Generator loss: 2.85070252, Discriminator loss: 0.53128552\n"
          ]
        },
        {
          "output_type": "stream",
          "name": "stderr",
          "text": [
            "118it [00:17,  6.81it/s]                         \n"
          ]
        },
        {
          "output_type": "stream",
          "name": "stdout",
          "text": [
            "Epoch 59 of 200\n",
            "Generator loss: 2.69968867, Discriminator loss: 0.58982849\n"
          ]
        },
        {
          "output_type": "stream",
          "name": "stderr",
          "text": [
            "118it [00:16,  7.19it/s]                         \n"
          ]
        },
        {
          "output_type": "stream",
          "name": "stdout",
          "text": [
            "Epoch 60 of 200\n",
            "Generator loss: 2.64037561, Discriminator loss: 0.58427268\n"
          ]
        },
        {
          "output_type": "stream",
          "name": "stderr",
          "text": [
            "118it [00:16,  7.04it/s]                         \n"
          ]
        },
        {
          "output_type": "stream",
          "name": "stdout",
          "text": [
            "Epoch 61 of 200\n",
            "Generator loss: 2.76072574, Discriminator loss: 0.58512318\n"
          ]
        },
        {
          "output_type": "stream",
          "name": "stderr",
          "text": [
            "118it [00:16,  6.95it/s]                         \n"
          ]
        },
        {
          "output_type": "stream",
          "name": "stdout",
          "text": [
            "Epoch 62 of 200\n",
            "Generator loss: 2.76845551, Discriminator loss: 0.53409487\n"
          ]
        },
        {
          "output_type": "stream",
          "name": "stderr",
          "text": [
            "118it [00:16,  7.17it/s]                         \n"
          ]
        },
        {
          "output_type": "stream",
          "name": "stdout",
          "text": [
            "Epoch 63 of 200\n",
            "Generator loss: 2.74452853, Discriminator loss: 0.59162849\n"
          ]
        },
        {
          "output_type": "stream",
          "name": "stderr",
          "text": [
            "118it [00:16,  7.10it/s]                         \n"
          ]
        },
        {
          "output_type": "stream",
          "name": "stdout",
          "text": [
            "Epoch 64 of 200\n",
            "Generator loss: 2.64004207, Discriminator loss: 0.61114967\n"
          ]
        },
        {
          "output_type": "stream",
          "name": "stderr",
          "text": [
            "118it [00:16,  6.98it/s]                         \n"
          ]
        },
        {
          "output_type": "stream",
          "name": "stdout",
          "text": [
            "Epoch 65 of 200\n",
            "Generator loss: 2.49700975, Discriminator loss: 0.59741509\n"
          ]
        },
        {
          "output_type": "stream",
          "name": "stderr",
          "text": [
            "118it [00:16,  7.17it/s]                         \n"
          ]
        },
        {
          "output_type": "stream",
          "name": "stdout",
          "text": [
            "Epoch 66 of 200\n",
            "Generator loss: 2.84384465, Discriminator loss: 0.53457791\n"
          ]
        },
        {
          "output_type": "stream",
          "name": "stderr",
          "text": [
            "118it [00:16,  7.25it/s]                         \n"
          ]
        },
        {
          "output_type": "stream",
          "name": "stdout",
          "text": [
            "Epoch 67 of 200\n",
            "Generator loss: 2.61285853, Discriminator loss: 0.62317050\n"
          ]
        },
        {
          "output_type": "stream",
          "name": "stderr",
          "text": [
            "118it [00:17,  6.88it/s]                         \n"
          ]
        },
        {
          "output_type": "stream",
          "name": "stdout",
          "text": [
            "Epoch 68 of 200\n",
            "Generator loss: 2.65558791, Discriminator loss: 0.60192168\n"
          ]
        },
        {
          "output_type": "stream",
          "name": "stderr",
          "text": [
            "118it [00:16,  7.18it/s]                         \n"
          ]
        },
        {
          "output_type": "stream",
          "name": "stdout",
          "text": [
            "Epoch 69 of 200\n",
            "Generator loss: 2.55829358, Discriminator loss: 0.61079854\n"
          ]
        },
        {
          "output_type": "stream",
          "name": "stderr",
          "text": [
            "118it [00:16,  7.08it/s]                         \n"
          ]
        },
        {
          "output_type": "stream",
          "name": "stdout",
          "text": [
            "Epoch 70 of 200\n",
            "Generator loss: 2.82864213, Discriminator loss: 0.55137098\n"
          ]
        },
        {
          "output_type": "stream",
          "name": "stderr",
          "text": [
            "118it [00:16,  7.00it/s]                         \n"
          ]
        },
        {
          "output_type": "stream",
          "name": "stdout",
          "text": [
            "Epoch 71 of 200\n",
            "Generator loss: 2.84575319, Discriminator loss: 0.55377984\n"
          ]
        },
        {
          "output_type": "stream",
          "name": "stderr",
          "text": [
            "118it [00:16,  7.12it/s]                         \n"
          ]
        },
        {
          "output_type": "stream",
          "name": "stdout",
          "text": [
            "Epoch 72 of 200\n",
            "Generator loss: 2.60827947, Discriminator loss: 0.60916179\n"
          ]
        },
        {
          "output_type": "stream",
          "name": "stderr",
          "text": [
            "118it [00:16,  7.02it/s]                         \n"
          ]
        },
        {
          "output_type": "stream",
          "name": "stdout",
          "text": [
            "Epoch 73 of 200\n",
            "Generator loss: 2.61340523, Discriminator loss: 0.59352982\n"
          ]
        },
        {
          "output_type": "stream",
          "name": "stderr",
          "text": [
            "118it [00:16,  7.03it/s]                         \n"
          ]
        },
        {
          "output_type": "stream",
          "name": "stdout",
          "text": [
            "Epoch 74 of 200\n",
            "Generator loss: 2.67598963, Discriminator loss: 0.57239723\n"
          ]
        },
        {
          "output_type": "stream",
          "name": "stderr",
          "text": [
            "118it [00:16,  7.17it/s]                         \n"
          ]
        },
        {
          "output_type": "stream",
          "name": "stdout",
          "text": [
            "Epoch 75 of 200\n",
            "Generator loss: 2.56947994, Discriminator loss: 0.61756545\n"
          ]
        },
        {
          "output_type": "stream",
          "name": "stderr",
          "text": [
            "118it [00:16,  7.25it/s]                         \n"
          ]
        },
        {
          "output_type": "stream",
          "name": "stdout",
          "text": [
            "Epoch 76 of 200\n",
            "Generator loss: 2.36822462, Discriminator loss: 0.66773784\n"
          ]
        },
        {
          "output_type": "stream",
          "name": "stderr",
          "text": [
            "118it [00:16,  7.07it/s]                         \n"
          ]
        },
        {
          "output_type": "stream",
          "name": "stdout",
          "text": [
            "Epoch 77 of 200\n",
            "Generator loss: 2.16091633, Discriminator loss: 0.77708024\n"
          ]
        },
        {
          "output_type": "stream",
          "name": "stderr",
          "text": [
            "118it [00:16,  6.99it/s]                         \n"
          ]
        },
        {
          "output_type": "stream",
          "name": "stdout",
          "text": [
            "Epoch 78 of 200\n",
            "Generator loss: 2.28952670, Discriminator loss: 0.71698493\n"
          ]
        },
        {
          "output_type": "stream",
          "name": "stderr",
          "text": [
            "118it [00:17,  6.88it/s]                         \n"
          ]
        },
        {
          "output_type": "stream",
          "name": "stdout",
          "text": [
            "Epoch 79 of 200\n",
            "Generator loss: 2.40570807, Discriminator loss: 0.62003672\n"
          ]
        },
        {
          "output_type": "stream",
          "name": "stderr",
          "text": [
            "118it [00:17,  6.80it/s]                         \n"
          ]
        },
        {
          "output_type": "stream",
          "name": "stdout",
          "text": [
            "Epoch 80 of 200\n",
            "Generator loss: 2.43169665, Discriminator loss: 0.63420904\n"
          ]
        },
        {
          "output_type": "stream",
          "name": "stderr",
          "text": [
            "118it [00:16,  6.96it/s]                         \n"
          ]
        },
        {
          "output_type": "stream",
          "name": "stdout",
          "text": [
            "Epoch 81 of 200\n",
            "Generator loss: 2.43707991, Discriminator loss: 0.64738649\n"
          ]
        },
        {
          "output_type": "stream",
          "name": "stderr",
          "text": [
            "118it [00:17,  6.91it/s]                         \n"
          ]
        },
        {
          "output_type": "stream",
          "name": "stdout",
          "text": [
            "Epoch 82 of 200\n",
            "Generator loss: 2.31669068, Discriminator loss: 0.69175851\n"
          ]
        },
        {
          "output_type": "stream",
          "name": "stderr",
          "text": [
            "118it [00:16,  7.24it/s]                         \n"
          ]
        },
        {
          "output_type": "stream",
          "name": "stdout",
          "text": [
            "Epoch 83 of 200\n",
            "Generator loss: 2.27930021, Discriminator loss: 0.72279847\n"
          ]
        },
        {
          "output_type": "stream",
          "name": "stderr",
          "text": [
            "118it [00:16,  7.33it/s]                         \n"
          ]
        },
        {
          "output_type": "stream",
          "name": "stdout",
          "text": [
            "Epoch 84 of 200\n",
            "Generator loss: 2.27654743, Discriminator loss: 0.68429804\n"
          ]
        },
        {
          "output_type": "stream",
          "name": "stderr",
          "text": [
            "118it [00:16,  7.03it/s]                         \n"
          ]
        },
        {
          "output_type": "stream",
          "name": "stdout",
          "text": [
            "Epoch 85 of 200\n",
            "Generator loss: 2.44762564, Discriminator loss: 0.62962747\n"
          ]
        },
        {
          "output_type": "stream",
          "name": "stderr",
          "text": [
            "118it [00:16,  7.14it/s]                         \n"
          ]
        },
        {
          "output_type": "stream",
          "name": "stdout",
          "text": [
            "Epoch 86 of 200\n",
            "Generator loss: 2.34325290, Discriminator loss: 0.67795277\n"
          ]
        },
        {
          "output_type": "stream",
          "name": "stderr",
          "text": [
            "118it [00:16,  7.25it/s]                         \n"
          ]
        },
        {
          "output_type": "stream",
          "name": "stdout",
          "text": [
            "Epoch 87 of 200\n",
            "Generator loss: 2.31795979, Discriminator loss: 0.65637648\n"
          ]
        },
        {
          "output_type": "stream",
          "name": "stderr",
          "text": [
            "118it [00:16,  7.08it/s]                         \n"
          ]
        },
        {
          "output_type": "stream",
          "name": "stdout",
          "text": [
            "Epoch 88 of 200\n",
            "Generator loss: 2.26962495, Discriminator loss: 0.68663538\n"
          ]
        },
        {
          "output_type": "stream",
          "name": "stderr",
          "text": [
            "118it [00:16,  7.09it/s]                         \n"
          ]
        },
        {
          "output_type": "stream",
          "name": "stdout",
          "text": [
            "Epoch 89 of 200\n",
            "Generator loss: 2.22932339, Discriminator loss: 0.69579911\n"
          ]
        },
        {
          "output_type": "stream",
          "name": "stderr",
          "text": [
            "118it [00:16,  7.20it/s]                         \n"
          ]
        },
        {
          "output_type": "stream",
          "name": "stdout",
          "text": [
            "Epoch 90 of 200\n",
            "Generator loss: 2.16390586, Discriminator loss: 0.71712250\n"
          ]
        },
        {
          "output_type": "stream",
          "name": "stderr",
          "text": [
            "118it [00:16,  7.14it/s]                         \n"
          ]
        },
        {
          "output_type": "stream",
          "name": "stdout",
          "text": [
            "Epoch 91 of 200\n",
            "Generator loss: 2.04818749, Discriminator loss: 0.73941302\n"
          ]
        },
        {
          "output_type": "stream",
          "name": "stderr",
          "text": [
            "118it [00:16,  6.98it/s]                         \n"
          ]
        },
        {
          "output_type": "stream",
          "name": "stdout",
          "text": [
            "Epoch 92 of 200\n",
            "Generator loss: 2.15503740, Discriminator loss: 0.72260636\n"
          ]
        },
        {
          "output_type": "stream",
          "name": "stderr",
          "text": [
            "118it [00:16,  7.23it/s]                         \n"
          ]
        },
        {
          "output_type": "stream",
          "name": "stdout",
          "text": [
            "Epoch 93 of 200\n",
            "Generator loss: 2.14545560, Discriminator loss: 0.76351142\n"
          ]
        },
        {
          "output_type": "stream",
          "name": "stderr",
          "text": [
            "118it [00:16,  7.15it/s]                         \n"
          ]
        },
        {
          "output_type": "stream",
          "name": "stdout",
          "text": [
            "Epoch 94 of 200\n",
            "Generator loss: 2.00073314, Discriminator loss: 0.77166939\n"
          ]
        },
        {
          "output_type": "stream",
          "name": "stderr",
          "text": [
            "118it [00:16,  6.97it/s]                         \n"
          ]
        },
        {
          "output_type": "stream",
          "name": "stdout",
          "text": [
            "Epoch 95 of 200\n",
            "Generator loss: 2.06027508, Discriminator loss: 0.73589021\n"
          ]
        },
        {
          "output_type": "stream",
          "name": "stderr",
          "text": [
            "118it [00:16,  7.31it/s]                         \n"
          ]
        },
        {
          "output_type": "stream",
          "name": "stdout",
          "text": [
            "Epoch 96 of 200\n",
            "Generator loss: 2.04258800, Discriminator loss: 0.74518102\n"
          ]
        },
        {
          "output_type": "stream",
          "name": "stderr",
          "text": [
            "118it [00:16,  7.20it/s]                         \n"
          ]
        },
        {
          "output_type": "stream",
          "name": "stdout",
          "text": [
            "Epoch 97 of 200\n",
            "Generator loss: 2.08469820, Discriminator loss: 0.76040000\n"
          ]
        },
        {
          "output_type": "stream",
          "name": "stderr",
          "text": [
            "118it [00:16,  6.96it/s]                         \n"
          ]
        },
        {
          "output_type": "stream",
          "name": "stdout",
          "text": [
            "Epoch 98 of 200\n",
            "Generator loss: 1.98996890, Discriminator loss: 0.77883148\n"
          ]
        },
        {
          "output_type": "stream",
          "name": "stderr",
          "text": [
            "118it [00:16,  7.31it/s]                         \n"
          ]
        },
        {
          "output_type": "stream",
          "name": "stdout",
          "text": [
            "Epoch 99 of 200\n",
            "Generator loss: 2.00509048, Discriminator loss: 0.77351540\n"
          ]
        },
        {
          "output_type": "stream",
          "name": "stderr",
          "text": [
            "118it [00:16,  7.30it/s]                         \n"
          ]
        },
        {
          "output_type": "stream",
          "name": "stdout",
          "text": [
            "Epoch 100 of 200\n",
            "Generator loss: 2.07010436, Discriminator loss: 0.76559895\n"
          ]
        },
        {
          "output_type": "stream",
          "name": "stderr",
          "text": [
            "118it [00:16,  6.96it/s]                         \n"
          ]
        },
        {
          "output_type": "stream",
          "name": "stdout",
          "text": [
            "Epoch 101 of 200\n",
            "Generator loss: 2.01775861, Discriminator loss: 0.76300406\n"
          ]
        },
        {
          "output_type": "stream",
          "name": "stderr",
          "text": [
            "118it [00:16,  7.27it/s]                         \n"
          ]
        },
        {
          "output_type": "stream",
          "name": "stdout",
          "text": [
            "Epoch 102 of 200\n",
            "Generator loss: 2.05789280, Discriminator loss: 0.75545561\n"
          ]
        },
        {
          "output_type": "stream",
          "name": "stderr",
          "text": [
            "118it [00:16,  7.25it/s]                         \n"
          ]
        },
        {
          "output_type": "stream",
          "name": "stdout",
          "text": [
            "Epoch 103 of 200\n",
            "Generator loss: 1.98746049, Discriminator loss: 0.80253458\n"
          ]
        },
        {
          "output_type": "stream",
          "name": "stderr",
          "text": [
            "118it [00:16,  7.00it/s]                         \n"
          ]
        },
        {
          "output_type": "stream",
          "name": "stdout",
          "text": [
            "Epoch 104 of 200\n",
            "Generator loss: 2.06696224, Discriminator loss: 0.78352982\n"
          ]
        },
        {
          "output_type": "stream",
          "name": "stderr",
          "text": [
            "118it [00:16,  7.25it/s]                         \n"
          ]
        },
        {
          "output_type": "stream",
          "name": "stdout",
          "text": [
            "Epoch 105 of 200\n",
            "Generator loss: 1.93277514, Discriminator loss: 0.81603485\n"
          ]
        },
        {
          "output_type": "stream",
          "name": "stderr",
          "text": [
            "118it [00:16,  7.31it/s]                         \n"
          ]
        },
        {
          "output_type": "stream",
          "name": "stdout",
          "text": [
            "Epoch 106 of 200\n",
            "Generator loss: 1.81263864, Discriminator loss: 0.86185366\n"
          ]
        },
        {
          "output_type": "stream",
          "name": "stderr",
          "text": [
            "118it [00:17,  6.94it/s]                         \n"
          ]
        },
        {
          "output_type": "stream",
          "name": "stdout",
          "text": [
            "Epoch 107 of 200\n",
            "Generator loss: 1.86160207, Discriminator loss: 0.82090974\n"
          ]
        },
        {
          "output_type": "stream",
          "name": "stderr",
          "text": [
            "118it [00:16,  7.25it/s]                         \n"
          ]
        },
        {
          "output_type": "stream",
          "name": "stdout",
          "text": [
            "Epoch 108 of 200\n",
            "Generator loss: 1.87691021, Discriminator loss: 0.81057209\n"
          ]
        },
        {
          "output_type": "stream",
          "name": "stderr",
          "text": [
            "118it [00:16,  7.32it/s]                         \n"
          ]
        },
        {
          "output_type": "stream",
          "name": "stdout",
          "text": [
            "Epoch 109 of 200\n",
            "Generator loss: 1.88994312, Discriminator loss: 0.81125838\n"
          ]
        },
        {
          "output_type": "stream",
          "name": "stderr",
          "text": [
            "118it [00:17,  6.91it/s]                         \n"
          ]
        },
        {
          "output_type": "stream",
          "name": "stdout",
          "text": [
            "Epoch 110 of 200\n",
            "Generator loss: 1.92722571, Discriminator loss: 0.83512276\n"
          ]
        },
        {
          "output_type": "stream",
          "name": "stderr",
          "text": [
            "118it [00:16,  7.23it/s]                         \n"
          ]
        },
        {
          "output_type": "stream",
          "name": "stdout",
          "text": [
            "Epoch 111 of 200\n",
            "Generator loss: 1.85770345, Discriminator loss: 0.82401425\n"
          ]
        },
        {
          "output_type": "stream",
          "name": "stderr",
          "text": [
            "118it [00:16,  7.14it/s]                         \n"
          ]
        },
        {
          "output_type": "stream",
          "name": "stdout",
          "text": [
            "Epoch 112 of 200\n",
            "Generator loss: 1.87685788, Discriminator loss: 0.82056284\n"
          ]
        },
        {
          "output_type": "stream",
          "name": "stderr",
          "text": [
            "118it [00:16,  6.97it/s]                         \n"
          ]
        },
        {
          "output_type": "stream",
          "name": "stdout",
          "text": [
            "Epoch 113 of 200\n",
            "Generator loss: 1.86685181, Discriminator loss: 0.83103681\n"
          ]
        },
        {
          "output_type": "stream",
          "name": "stderr",
          "text": [
            "118it [00:16,  7.16it/s]                         \n"
          ]
        },
        {
          "output_type": "stream",
          "name": "stdout",
          "text": [
            "Epoch 114 of 200\n",
            "Generator loss: 1.81633532, Discriminator loss: 0.87775254\n"
          ]
        },
        {
          "output_type": "stream",
          "name": "stderr",
          "text": [
            "118it [00:16,  7.30it/s]                         \n"
          ]
        },
        {
          "output_type": "stream",
          "name": "stdout",
          "text": [
            "Epoch 115 of 200\n",
            "Generator loss: 1.72679198, Discriminator loss: 0.87621212\n"
          ]
        },
        {
          "output_type": "stream",
          "name": "stderr",
          "text": [
            "118it [00:16,  7.07it/s]                         \n"
          ]
        },
        {
          "output_type": "stream",
          "name": "stdout",
          "text": [
            "Epoch 116 of 200\n",
            "Generator loss: 1.76690686, Discriminator loss: 0.88237882\n"
          ]
        },
        {
          "output_type": "stream",
          "name": "stderr",
          "text": [
            "118it [00:16,  7.04it/s]                         \n"
          ]
        },
        {
          "output_type": "stream",
          "name": "stdout",
          "text": [
            "Epoch 117 of 200\n",
            "Generator loss: 1.77873647, Discriminator loss: 0.88331580\n"
          ]
        },
        {
          "output_type": "stream",
          "name": "stderr",
          "text": [
            "118it [00:16,  7.27it/s]                         \n"
          ]
        },
        {
          "output_type": "stream",
          "name": "stdout",
          "text": [
            "Epoch 118 of 200\n",
            "Generator loss: 1.64399898, Discriminator loss: 0.91733158\n"
          ]
        },
        {
          "output_type": "stream",
          "name": "stderr",
          "text": [
            "118it [00:16,  7.27it/s]                         \n"
          ]
        },
        {
          "output_type": "stream",
          "name": "stdout",
          "text": [
            "Epoch 119 of 200\n",
            "Generator loss: 1.70461249, Discriminator loss: 0.92932957\n"
          ]
        },
        {
          "output_type": "stream",
          "name": "stderr",
          "text": [
            "118it [00:16,  7.02it/s]                         \n"
          ]
        },
        {
          "output_type": "stream",
          "name": "stdout",
          "text": [
            "Epoch 120 of 200\n",
            "Generator loss: 1.67080510, Discriminator loss: 0.91879809\n"
          ]
        },
        {
          "output_type": "stream",
          "name": "stderr",
          "text": [
            "118it [00:16,  7.22it/s]                         \n"
          ]
        },
        {
          "output_type": "stream",
          "name": "stdout",
          "text": [
            "Epoch 121 of 200\n",
            "Generator loss: 1.67788231, Discriminator loss: 0.89575726\n"
          ]
        },
        {
          "output_type": "stream",
          "name": "stderr",
          "text": [
            "118it [00:16,  7.25it/s]                         \n"
          ]
        },
        {
          "output_type": "stream",
          "name": "stdout",
          "text": [
            "Epoch 122 of 200\n",
            "Generator loss: 1.81819236, Discriminator loss: 0.86993313\n"
          ]
        },
        {
          "output_type": "stream",
          "name": "stderr",
          "text": [
            "118it [00:17,  6.90it/s]                         \n"
          ]
        },
        {
          "output_type": "stream",
          "name": "stdout",
          "text": [
            "Epoch 123 of 200\n",
            "Generator loss: 1.78605127, Discriminator loss: 0.87798774\n"
          ]
        },
        {
          "output_type": "stream",
          "name": "stderr",
          "text": [
            "118it [00:16,  7.29it/s]                         \n"
          ]
        },
        {
          "output_type": "stream",
          "name": "stdout",
          "text": [
            "Epoch 124 of 200\n",
            "Generator loss: 1.81451619, Discriminator loss: 0.85444582\n"
          ]
        },
        {
          "output_type": "stream",
          "name": "stderr",
          "text": [
            "118it [00:16,  7.32it/s]                         \n"
          ]
        },
        {
          "output_type": "stream",
          "name": "stdout",
          "text": [
            "Epoch 125 of 200\n",
            "Generator loss: 1.79806459, Discriminator loss: 0.86384732\n"
          ]
        },
        {
          "output_type": "stream",
          "name": "stderr",
          "text": [
            "118it [00:16,  7.00it/s]                         \n"
          ]
        },
        {
          "output_type": "stream",
          "name": "stdout",
          "text": [
            "Epoch 126 of 200\n",
            "Generator loss: 1.81361187, Discriminator loss: 0.85765988\n"
          ]
        },
        {
          "output_type": "stream",
          "name": "stderr",
          "text": [
            "118it [00:16,  7.29it/s]                         \n"
          ]
        },
        {
          "output_type": "stream",
          "name": "stdout",
          "text": [
            "Epoch 127 of 200\n",
            "Generator loss: 1.70540547, Discriminator loss: 0.89789754\n"
          ]
        },
        {
          "output_type": "stream",
          "name": "stderr",
          "text": [
            "118it [00:16,  7.22it/s]                         \n"
          ]
        },
        {
          "output_type": "stream",
          "name": "stdout",
          "text": [
            "Epoch 128 of 200\n",
            "Generator loss: 1.72853470, Discriminator loss: 0.87777382\n"
          ]
        },
        {
          "output_type": "stream",
          "name": "stderr",
          "text": [
            "118it [00:17,  6.93it/s]                         \n"
          ]
        },
        {
          "output_type": "stream",
          "name": "stdout",
          "text": [
            "Epoch 129 of 200\n",
            "Generator loss: 1.70392823, Discriminator loss: 0.89766365\n"
          ]
        },
        {
          "output_type": "stream",
          "name": "stderr",
          "text": [
            "118it [00:16,  7.18it/s]                         \n"
          ]
        },
        {
          "output_type": "stream",
          "name": "stdout",
          "text": [
            "Epoch 130 of 200\n",
            "Generator loss: 1.68918896, Discriminator loss: 0.89931840\n"
          ]
        },
        {
          "output_type": "stream",
          "name": "stderr",
          "text": [
            "118it [00:16,  7.29it/s]                         \n"
          ]
        },
        {
          "output_type": "stream",
          "name": "stdout",
          "text": [
            "Epoch 131 of 200\n",
            "Generator loss: 1.71800458, Discriminator loss: 0.89473844\n"
          ]
        },
        {
          "output_type": "stream",
          "name": "stderr",
          "text": [
            "118it [00:17,  6.90it/s]                         \n"
          ]
        },
        {
          "output_type": "stream",
          "name": "stdout",
          "text": [
            "Epoch 132 of 200\n",
            "Generator loss: 1.68719852, Discriminator loss: 0.89847541\n"
          ]
        },
        {
          "output_type": "stream",
          "name": "stderr",
          "text": [
            "118it [00:16,  7.32it/s]                         \n"
          ]
        },
        {
          "output_type": "stream",
          "name": "stdout",
          "text": [
            "Epoch 133 of 200\n",
            "Generator loss: 1.69102943, Discriminator loss: 0.90712440\n"
          ]
        },
        {
          "output_type": "stream",
          "name": "stderr",
          "text": [
            "118it [00:15,  7.38it/s]                         \n"
          ]
        },
        {
          "output_type": "stream",
          "name": "stdout",
          "text": [
            "Epoch 134 of 200\n",
            "Generator loss: 1.65688705, Discriminator loss: 0.92376393\n"
          ]
        },
        {
          "output_type": "stream",
          "name": "stderr",
          "text": [
            "118it [00:16,  7.06it/s]                         \n"
          ]
        },
        {
          "output_type": "stream",
          "name": "stdout",
          "text": [
            "Epoch 135 of 200\n",
            "Generator loss: 1.64077377, Discriminator loss: 0.91894060\n"
          ]
        },
        {
          "output_type": "stream",
          "name": "stderr",
          "text": [
            "118it [00:16,  7.35it/s]                         \n"
          ]
        },
        {
          "output_type": "stream",
          "name": "stdout",
          "text": [
            "Epoch 136 of 200\n",
            "Generator loss: 1.66645873, Discriminator loss: 0.94312495\n"
          ]
        },
        {
          "output_type": "stream",
          "name": "stderr",
          "text": [
            "118it [00:16,  7.32it/s]                         \n"
          ]
        },
        {
          "output_type": "stream",
          "name": "stdout",
          "text": [
            "Epoch 137 of 200\n",
            "Generator loss: 1.56450224, Discriminator loss: 0.93702513\n"
          ]
        },
        {
          "output_type": "stream",
          "name": "stderr",
          "text": [
            "118it [00:16,  7.25it/s]                         \n"
          ]
        },
        {
          "output_type": "stream",
          "name": "stdout",
          "text": [
            "Epoch 138 of 200\n",
            "Generator loss: 1.63794518, Discriminator loss: 0.93970668\n"
          ]
        },
        {
          "output_type": "stream",
          "name": "stderr",
          "text": [
            "118it [00:16,  7.20it/s]                         \n"
          ]
        },
        {
          "output_type": "stream",
          "name": "stdout",
          "text": [
            "Epoch 139 of 200\n",
            "Generator loss: 1.67531288, Discriminator loss: 0.90333480\n"
          ]
        },
        {
          "output_type": "stream",
          "name": "stderr",
          "text": [
            "118it [00:16,  7.34it/s]                         \n"
          ]
        },
        {
          "output_type": "stream",
          "name": "stdout",
          "text": [
            "Epoch 140 of 200\n",
            "Generator loss: 1.60096490, Discriminator loss: 0.92421895\n"
          ]
        },
        {
          "output_type": "stream",
          "name": "stderr",
          "text": [
            "118it [00:15,  7.45it/s]                         \n"
          ]
        },
        {
          "output_type": "stream",
          "name": "stdout",
          "text": [
            "Epoch 141 of 200\n",
            "Generator loss: 1.71468866, Discriminator loss: 0.88691962\n"
          ]
        },
        {
          "output_type": "stream",
          "name": "stderr",
          "text": [
            "118it [00:16,  7.07it/s]                         \n"
          ]
        },
        {
          "output_type": "stream",
          "name": "stdout",
          "text": [
            "Epoch 142 of 200\n",
            "Generator loss: 1.68860590, Discriminator loss: 0.90232038\n"
          ]
        },
        {
          "output_type": "stream",
          "name": "stderr",
          "text": [
            "118it [00:16,  7.30it/s]                         \n"
          ]
        },
        {
          "output_type": "stream",
          "name": "stdout",
          "text": [
            "Epoch 143 of 200\n",
            "Generator loss: 1.77924442, Discriminator loss: 0.89731276\n"
          ]
        },
        {
          "output_type": "stream",
          "name": "stderr",
          "text": [
            "118it [00:15,  7.39it/s]                         \n"
          ]
        },
        {
          "output_type": "stream",
          "name": "stdout",
          "text": [
            "Epoch 144 of 200\n",
            "Generator loss: 1.63795888, Discriminator loss: 0.92366356\n"
          ]
        },
        {
          "output_type": "stream",
          "name": "stderr",
          "text": [
            "118it [00:16,  7.02it/s]                         \n"
          ]
        },
        {
          "output_type": "stream",
          "name": "stdout",
          "text": [
            "Epoch 145 of 200\n",
            "Generator loss: 1.53882682, Discriminator loss: 0.94753021\n"
          ]
        },
        {
          "output_type": "stream",
          "name": "stderr",
          "text": [
            "118it [00:15,  7.39it/s]                         \n"
          ]
        },
        {
          "output_type": "stream",
          "name": "stdout",
          "text": [
            "Epoch 146 of 200\n",
            "Generator loss: 1.60733902, Discriminator loss: 0.93739659\n"
          ]
        },
        {
          "output_type": "stream",
          "name": "stderr",
          "text": [
            "118it [00:16,  7.27it/s]                         \n"
          ]
        },
        {
          "output_type": "stream",
          "name": "stdout",
          "text": [
            "Epoch 147 of 200\n",
            "Generator loss: 1.56334448, Discriminator loss: 0.94264871\n"
          ]
        },
        {
          "output_type": "stream",
          "name": "stderr",
          "text": [
            "118it [00:16,  7.16it/s]                         \n"
          ]
        },
        {
          "output_type": "stream",
          "name": "stdout",
          "text": [
            "Epoch 148 of 200\n",
            "Generator loss: 1.56082332, Discriminator loss: 0.95178813\n"
          ]
        },
        {
          "output_type": "stream",
          "name": "stderr",
          "text": [
            "118it [00:16,  7.27it/s]                         \n"
          ]
        },
        {
          "output_type": "stream",
          "name": "stdout",
          "text": [
            "Epoch 149 of 200\n",
            "Generator loss: 1.50960684, Discriminator loss: 0.98737925\n"
          ]
        },
        {
          "output_type": "stream",
          "name": "stderr",
          "text": [
            "118it [00:15,  7.38it/s]                         \n"
          ]
        },
        {
          "output_type": "stream",
          "name": "stdout",
          "text": [
            "Epoch 150 of 200\n",
            "Generator loss: 1.46667254, Discriminator loss: 1.00311935\n"
          ]
        },
        {
          "output_type": "stream",
          "name": "stderr",
          "text": [
            "118it [00:15,  7.44it/s]                         \n"
          ]
        },
        {
          "output_type": "stream",
          "name": "stdout",
          "text": [
            "Epoch 151 of 200\n",
            "Generator loss: 1.48491693, Discriminator loss: 0.96879327\n"
          ]
        },
        {
          "output_type": "stream",
          "name": "stderr",
          "text": [
            "118it [00:16,  7.00it/s]                         \n"
          ]
        },
        {
          "output_type": "stream",
          "name": "stdout",
          "text": [
            "Epoch 152 of 200\n",
            "Generator loss: 1.51359475, Discriminator loss: 0.96060222\n"
          ]
        },
        {
          "output_type": "stream",
          "name": "stderr",
          "text": [
            "118it [00:15,  7.40it/s]                         \n"
          ]
        },
        {
          "output_type": "stream",
          "name": "stdout",
          "text": [
            "Epoch 153 of 200\n",
            "Generator loss: 1.56159341, Discriminator loss: 0.96317977\n"
          ]
        },
        {
          "output_type": "stream",
          "name": "stderr",
          "text": [
            "118it [00:15,  7.42it/s]                         \n"
          ]
        },
        {
          "output_type": "stream",
          "name": "stdout",
          "text": [
            "Epoch 154 of 200\n",
            "Generator loss: 1.49962127, Discriminator loss: 0.97895640\n"
          ]
        },
        {
          "output_type": "stream",
          "name": "stderr",
          "text": [
            "118it [00:16,  7.08it/s]                         \n"
          ]
        },
        {
          "output_type": "stream",
          "name": "stdout",
          "text": [
            "Epoch 155 of 200\n",
            "Generator loss: 1.47520685, Discriminator loss: 0.98986530\n"
          ]
        },
        {
          "output_type": "stream",
          "name": "stderr",
          "text": [
            "118it [00:15,  7.43it/s]                         \n"
          ]
        },
        {
          "output_type": "stream",
          "name": "stdout",
          "text": [
            "Epoch 156 of 200\n",
            "Generator loss: 1.51693070, Discriminator loss: 0.98540729\n"
          ]
        },
        {
          "output_type": "stream",
          "name": "stderr",
          "text": [
            "118it [00:16,  7.37it/s]                         \n"
          ]
        },
        {
          "output_type": "stream",
          "name": "stdout",
          "text": [
            "Epoch 157 of 200\n",
            "Generator loss: 1.48847163, Discriminator loss: 0.98288453\n"
          ]
        },
        {
          "output_type": "stream",
          "name": "stderr",
          "text": [
            "118it [00:16,  7.19it/s]                         \n"
          ]
        },
        {
          "output_type": "stream",
          "name": "stdout",
          "text": [
            "Epoch 158 of 200\n",
            "Generator loss: 1.48424327, Discriminator loss: 0.99971563\n"
          ]
        },
        {
          "output_type": "stream",
          "name": "stderr",
          "text": [
            "118it [00:16,  7.23it/s]                         \n"
          ]
        },
        {
          "output_type": "stream",
          "name": "stdout",
          "text": [
            "Epoch 159 of 200\n",
            "Generator loss: 1.45990908, Discriminator loss: 0.99026567\n"
          ]
        },
        {
          "output_type": "stream",
          "name": "stderr",
          "text": [
            "118it [00:15,  7.38it/s]                         \n"
          ]
        },
        {
          "output_type": "stream",
          "name": "stdout",
          "text": [
            "Epoch 160 of 200\n",
            "Generator loss: 1.45065463, Discriminator loss: 0.99404871\n"
          ]
        },
        {
          "output_type": "stream",
          "name": "stderr",
          "text": [
            "118it [00:15,  7.43it/s]                         \n"
          ]
        },
        {
          "output_type": "stream",
          "name": "stdout",
          "text": [
            "Epoch 161 of 200\n",
            "Generator loss: 1.41280222, Discriminator loss: 1.01928031\n"
          ]
        },
        {
          "output_type": "stream",
          "name": "stderr",
          "text": [
            "118it [00:16,  7.07it/s]                         \n"
          ]
        },
        {
          "output_type": "stream",
          "name": "stdout",
          "text": [
            "Epoch 162 of 200\n",
            "Generator loss: 1.44963932, Discriminator loss: 1.01356566\n"
          ]
        },
        {
          "output_type": "stream",
          "name": "stderr",
          "text": [
            "118it [00:15,  7.48it/s]                         \n"
          ]
        },
        {
          "output_type": "stream",
          "name": "stdout",
          "text": [
            "Epoch 163 of 200\n",
            "Generator loss: 1.44976437, Discriminator loss: 1.00052512\n"
          ]
        },
        {
          "output_type": "stream",
          "name": "stderr",
          "text": [
            "118it [00:16,  7.33it/s]                         \n"
          ]
        },
        {
          "output_type": "stream",
          "name": "stdout",
          "text": [
            "Epoch 164 of 200\n",
            "Generator loss: 1.38000357, Discriminator loss: 1.02722955\n"
          ]
        },
        {
          "output_type": "stream",
          "name": "stderr",
          "text": [
            "118it [00:16,  7.03it/s]                         \n"
          ]
        },
        {
          "output_type": "stream",
          "name": "stdout",
          "text": [
            "Epoch 165 of 200\n",
            "Generator loss: 1.37586021, Discriminator loss: 1.03122151\n"
          ]
        },
        {
          "output_type": "stream",
          "name": "stderr",
          "text": [
            "118it [00:16,  7.37it/s]                         \n"
          ]
        },
        {
          "output_type": "stream",
          "name": "stdout",
          "text": [
            "Epoch 166 of 200\n",
            "Generator loss: 1.42580736, Discriminator loss: 1.02950823\n"
          ]
        },
        {
          "output_type": "stream",
          "name": "stderr",
          "text": [
            "118it [00:16,  7.21it/s]                         \n"
          ]
        },
        {
          "output_type": "stream",
          "name": "stdout",
          "text": [
            "Epoch 167 of 200\n",
            "Generator loss: 1.42157733, Discriminator loss: 1.03233683\n"
          ]
        },
        {
          "output_type": "stream",
          "name": "stderr",
          "text": [
            "118it [00:16,  7.22it/s]                         \n"
          ]
        },
        {
          "output_type": "stream",
          "name": "stdout",
          "text": [
            "Epoch 168 of 200\n",
            "Generator loss: 1.42566633, Discriminator loss: 1.00892842\n"
          ]
        },
        {
          "output_type": "stream",
          "name": "stderr",
          "text": [
            "118it [00:16,  7.26it/s]                         \n"
          ]
        },
        {
          "output_type": "stream",
          "name": "stdout",
          "text": [
            "Epoch 169 of 200\n",
            "Generator loss: 1.42021132, Discriminator loss: 1.02343357\n"
          ]
        },
        {
          "output_type": "stream",
          "name": "stderr",
          "text": [
            "118it [00:15,  7.39it/s]                         \n"
          ]
        },
        {
          "output_type": "stream",
          "name": "stdout",
          "text": [
            "Epoch 170 of 200\n",
            "Generator loss: 1.39189851, Discriminator loss: 1.01062810\n"
          ]
        },
        {
          "output_type": "stream",
          "name": "stderr",
          "text": [
            "118it [00:15,  7.42it/s]                         \n"
          ]
        },
        {
          "output_type": "stream",
          "name": "stdout",
          "text": [
            "Epoch 171 of 200\n",
            "Generator loss: 1.46138561, Discriminator loss: 0.99419463\n"
          ]
        },
        {
          "output_type": "stream",
          "name": "stderr",
          "text": [
            "118it [00:16,  7.00it/s]                         \n"
          ]
        },
        {
          "output_type": "stream",
          "name": "stdout",
          "text": [
            "Epoch 172 of 200\n",
            "Generator loss: 1.36573875, Discriminator loss: 1.04957128\n"
          ]
        },
        {
          "output_type": "stream",
          "name": "stderr",
          "text": [
            "118it [00:15,  7.46it/s]                         \n"
          ]
        },
        {
          "output_type": "stream",
          "name": "stdout",
          "text": [
            "Epoch 173 of 200\n",
            "Generator loss: 1.33445823, Discriminator loss: 1.05925786\n"
          ]
        },
        {
          "output_type": "stream",
          "name": "stderr",
          "text": [
            "118it [00:15,  7.39it/s]                         \n"
          ]
        },
        {
          "output_type": "stream",
          "name": "stdout",
          "text": [
            "Epoch 174 of 200\n",
            "Generator loss: 1.34421670, Discriminator loss: 1.04642868\n"
          ]
        },
        {
          "output_type": "stream",
          "name": "stderr",
          "text": [
            "118it [00:16,  7.00it/s]                         \n"
          ]
        },
        {
          "output_type": "stream",
          "name": "stdout",
          "text": [
            "Epoch 175 of 200\n",
            "Generator loss: 1.34891462, Discriminator loss: 1.03950453\n"
          ]
        },
        {
          "output_type": "stream",
          "name": "stderr",
          "text": [
            "118it [00:15,  7.50it/s]                         \n"
          ]
        },
        {
          "output_type": "stream",
          "name": "stdout",
          "text": [
            "Epoch 176 of 200\n",
            "Generator loss: 1.32628632, Discriminator loss: 1.06948864\n"
          ]
        },
        {
          "output_type": "stream",
          "name": "stderr",
          "text": [
            "118it [00:16,  7.32it/s]                         \n"
          ]
        },
        {
          "output_type": "stream",
          "name": "stdout",
          "text": [
            "Epoch 177 of 200\n",
            "Generator loss: 1.34527123, Discriminator loss: 1.05100107\n"
          ]
        },
        {
          "output_type": "stream",
          "name": "stderr",
          "text": [
            "118it [00:16,  7.36it/s]                         \n"
          ]
        },
        {
          "output_type": "stream",
          "name": "stdout",
          "text": [
            "Epoch 178 of 200\n",
            "Generator loss: 1.39190245, Discriminator loss: 1.03903937\n"
          ]
        },
        {
          "output_type": "stream",
          "name": "stderr",
          "text": [
            "118it [00:16,  7.13it/s]                         \n"
          ]
        },
        {
          "output_type": "stream",
          "name": "stdout",
          "text": [
            "Epoch 179 of 200\n",
            "Generator loss: 1.34583890, Discriminator loss: 1.05224311\n"
          ]
        },
        {
          "output_type": "stream",
          "name": "stderr",
          "text": [
            "118it [00:16,  7.34it/s]                         \n"
          ]
        },
        {
          "output_type": "stream",
          "name": "stdout",
          "text": [
            "Epoch 180 of 200\n",
            "Generator loss: 1.35614085, Discriminator loss: 1.04512262\n"
          ]
        },
        {
          "output_type": "stream",
          "name": "stderr",
          "text": [
            "118it [00:15,  7.42it/s]                         \n"
          ]
        },
        {
          "output_type": "stream",
          "name": "stdout",
          "text": [
            "Epoch 181 of 200\n",
            "Generator loss: 1.39459682, Discriminator loss: 1.03798532\n"
          ]
        },
        {
          "output_type": "stream",
          "name": "stderr",
          "text": [
            "118it [00:16,  7.04it/s]                         \n"
          ]
        },
        {
          "output_type": "stream",
          "name": "stdout",
          "text": [
            "Epoch 182 of 200\n",
            "Generator loss: 1.36645055, Discriminator loss: 1.04176748\n"
          ]
        },
        {
          "output_type": "stream",
          "name": "stderr",
          "text": [
            "118it [00:15,  7.44it/s]                         \n"
          ]
        },
        {
          "output_type": "stream",
          "name": "stdout",
          "text": [
            "Epoch 183 of 200\n",
            "Generator loss: 1.34536612, Discriminator loss: 1.07150877\n"
          ]
        },
        {
          "output_type": "stream",
          "name": "stderr",
          "text": [
            "118it [00:16,  7.32it/s]                         \n"
          ]
        },
        {
          "output_type": "stream",
          "name": "stdout",
          "text": [
            "Epoch 184 of 200\n",
            "Generator loss: 1.33435917, Discriminator loss: 1.06712437\n"
          ]
        },
        {
          "output_type": "stream",
          "name": "stderr",
          "text": [
            "118it [00:16,  7.06it/s]                         \n"
          ]
        },
        {
          "output_type": "stream",
          "name": "stdout",
          "text": [
            "Epoch 185 of 200\n",
            "Generator loss: 1.32282698, Discriminator loss: 1.06542981\n"
          ]
        },
        {
          "output_type": "stream",
          "name": "stderr",
          "text": [
            "118it [00:16,  7.29it/s]                         \n"
          ]
        },
        {
          "output_type": "stream",
          "name": "stdout",
          "text": [
            "Epoch 186 of 200\n",
            "Generator loss: 1.42396033, Discriminator loss: 1.04150474\n"
          ]
        },
        {
          "output_type": "stream",
          "name": "stderr",
          "text": [
            "118it [00:16,  7.37it/s]                         \n"
          ]
        },
        {
          "output_type": "stream",
          "name": "stdout",
          "text": [
            "Epoch 187 of 200\n",
            "Generator loss: 1.38356757, Discriminator loss: 1.03607440\n"
          ]
        },
        {
          "output_type": "stream",
          "name": "stderr",
          "text": [
            "118it [00:16,  7.33it/s]                         \n"
          ]
        },
        {
          "output_type": "stream",
          "name": "stdout",
          "text": [
            "Epoch 188 of 200\n",
            "Generator loss: 1.37643242, Discriminator loss: 1.03824461\n"
          ]
        },
        {
          "output_type": "stream",
          "name": "stderr",
          "text": [
            "118it [00:16,  7.20it/s]                         \n"
          ]
        },
        {
          "output_type": "stream",
          "name": "stdout",
          "text": [
            "Epoch 189 of 200\n",
            "Generator loss: 1.37901568, Discriminator loss: 1.03590465\n"
          ]
        },
        {
          "output_type": "stream",
          "name": "stderr",
          "text": [
            "118it [00:15,  7.38it/s]                         \n"
          ]
        },
        {
          "output_type": "stream",
          "name": "stdout",
          "text": [
            "Epoch 190 of 200\n",
            "Generator loss: 1.34287202, Discriminator loss: 1.03912735\n"
          ]
        },
        {
          "output_type": "stream",
          "name": "stderr",
          "text": [
            "118it [00:15,  7.39it/s]                         \n"
          ]
        },
        {
          "output_type": "stream",
          "name": "stdout",
          "text": [
            "Epoch 191 of 200\n",
            "Generator loss: 1.35918796, Discriminator loss: 1.03756368\n"
          ]
        },
        {
          "output_type": "stream",
          "name": "stderr",
          "text": [
            "118it [00:16,  7.05it/s]                         \n"
          ]
        },
        {
          "output_type": "stream",
          "name": "stdout",
          "text": [
            "Epoch 192 of 200\n",
            "Generator loss: 1.34812129, Discriminator loss: 1.04816890\n"
          ]
        },
        {
          "output_type": "stream",
          "name": "stderr",
          "text": [
            "118it [00:16,  7.37it/s]                         \n"
          ]
        },
        {
          "output_type": "stream",
          "name": "stdout",
          "text": [
            "Epoch 193 of 200\n",
            "Generator loss: 1.33976650, Discriminator loss: 1.06269836\n"
          ]
        },
        {
          "output_type": "stream",
          "name": "stderr",
          "text": [
            "118it [00:16,  7.33it/s]                         \n"
          ]
        },
        {
          "output_type": "stream",
          "name": "stdout",
          "text": [
            "Epoch 194 of 200\n",
            "Generator loss: 1.35520840, Discriminator loss: 1.06160867\n"
          ]
        },
        {
          "output_type": "stream",
          "name": "stderr",
          "text": [
            "118it [00:16,  7.12it/s]                         \n"
          ]
        },
        {
          "output_type": "stream",
          "name": "stdout",
          "text": [
            "Epoch 195 of 200\n",
            "Generator loss: 1.32860112, Discriminator loss: 1.06646001\n"
          ]
        },
        {
          "output_type": "stream",
          "name": "stderr",
          "text": [
            "118it [00:15,  7.41it/s]                         \n"
          ]
        },
        {
          "output_type": "stream",
          "name": "stdout",
          "text": [
            "Epoch 196 of 200\n",
            "Generator loss: 1.27642643, Discriminator loss: 1.07634175\n"
          ]
        },
        {
          "output_type": "stream",
          "name": "stderr",
          "text": [
            "118it [00:16,  7.24it/s]                         \n"
          ]
        },
        {
          "output_type": "stream",
          "name": "stdout",
          "text": [
            "Epoch 197 of 200\n",
            "Generator loss: 1.32525730, Discriminator loss: 1.06405783\n"
          ]
        },
        {
          "output_type": "stream",
          "name": "stderr",
          "text": [
            "118it [00:16,  7.22it/s]                         \n"
          ]
        },
        {
          "output_type": "stream",
          "name": "stdout",
          "text": [
            "Epoch 198 of 200\n",
            "Generator loss: 1.35964668, Discriminator loss: 1.05945921\n"
          ]
        },
        {
          "output_type": "stream",
          "name": "stderr",
          "text": [
            "118it [00:16,  7.25it/s]                         \n"
          ]
        },
        {
          "output_type": "stream",
          "name": "stdout",
          "text": [
            "Epoch 199 of 200\n",
            "Generator loss: 1.36767292, Discriminator loss: 1.02851224\n",
            "DONE TRAINING\n"
          ]
        }
      ]
    },
    {
      "cell_type": "code",
      "metadata": {
        "colab": {
          "base_uri": "https://localhost:8080/"
        },
        "id": "-ojSHxARWzRR",
        "outputId": "8ff2d49f-7b38-4abe-b379-27a301fd281f"
      },
      "source": [
        "!python vanilla_gan.py"
      ],
      "execution_count": 3,
      "outputs": [
        {
          "output_type": "stream",
          "name": "stdout",
          "text": [
            "Downloading http://fashion-mnist.s3-website.eu-central-1.amazonaws.com/train-images-idx3-ubyte.gz\n",
            "Downloading http://fashion-mnist.s3-website.eu-central-1.amazonaws.com/train-images-idx3-ubyte.gz to input/data/FashionMNIST/raw/train-images-idx3-ubyte.gz\n",
            "100% 26421880/26421880 [00:01<00:00, 16076913.61it/s]\n",
            "Extracting input/data/FashionMNIST/raw/train-images-idx3-ubyte.gz to input/data/FashionMNIST/raw\n",
            "\n",
            "Downloading http://fashion-mnist.s3-website.eu-central-1.amazonaws.com/train-labels-idx1-ubyte.gz\n",
            "Downloading http://fashion-mnist.s3-website.eu-central-1.amazonaws.com/train-labels-idx1-ubyte.gz to input/data/FashionMNIST/raw/train-labels-idx1-ubyte.gz\n",
            "100% 29515/29515 [00:00<00:00, 270402.55it/s]\n",
            "Extracting input/data/FashionMNIST/raw/train-labels-idx1-ubyte.gz to input/data/FashionMNIST/raw\n",
            "\n",
            "Downloading http://fashion-mnist.s3-website.eu-central-1.amazonaws.com/t10k-images-idx3-ubyte.gz\n",
            "Downloading http://fashion-mnist.s3-website.eu-central-1.amazonaws.com/t10k-images-idx3-ubyte.gz to input/data/FashionMNIST/raw/t10k-images-idx3-ubyte.gz\n",
            "100% 4422102/4422102 [00:00<00:00, 5091696.54it/s]\n",
            "Extracting input/data/FashionMNIST/raw/t10k-images-idx3-ubyte.gz to input/data/FashionMNIST/raw\n",
            "\n",
            "Downloading http://fashion-mnist.s3-website.eu-central-1.amazonaws.com/t10k-labels-idx1-ubyte.gz\n",
            "Downloading http://fashion-mnist.s3-website.eu-central-1.amazonaws.com/t10k-labels-idx1-ubyte.gz to input/data/FashionMNIST/raw/t10k-labels-idx1-ubyte.gz\n",
            "100% 5148/5148 [00:00<00:00, 31023386.48it/s]\n",
            "Extracting input/data/FashionMNIST/raw/t10k-labels-idx1-ubyte.gz to input/data/FashionMNIST/raw\n",
            "\n",
            "##### GENERATOR #####\n",
            "Generator(\n",
            "  (main): Sequential(\n",
            "    (0): Linear(in_features=128, out_features=256, bias=True)\n",
            "    (1): LeakyReLU(negative_slope=0.2)\n",
            "    (2): Linear(in_features=256, out_features=512, bias=True)\n",
            "    (3): LeakyReLU(negative_slope=0.2)\n",
            "    (4): Linear(in_features=512, out_features=1024, bias=True)\n",
            "    (5): LeakyReLU(negative_slope=0.2)\n",
            "    (6): Linear(in_features=1024, out_features=784, bias=True)\n",
            "    (7): Tanh()\n",
            "  )\n",
            ")\n",
            "######################\n",
            "\n",
            "##### DISCRIMINATOR #####\n",
            "Discriminator(\n",
            "  (main): Sequential(\n",
            "    (0): Linear(in_features=784, out_features=1024, bias=True)\n",
            "    (1): LeakyReLU(negative_slope=0.2)\n",
            "    (2): Dropout(p=0.3, inplace=False)\n",
            "    (3): Linear(in_features=1024, out_features=512, bias=True)\n",
            "    (4): LeakyReLU(negative_slope=0.2)\n",
            "    (5): Dropout(p=0.3, inplace=False)\n",
            "    (6): Linear(in_features=512, out_features=256, bias=True)\n",
            "    (7): LeakyReLU(negative_slope=0.2)\n",
            "    (8): Dropout(p=0.3, inplace=False)\n",
            "    (9): Linear(in_features=256, out_features=1, bias=True)\n",
            "    (10): Sigmoid()\n",
            "  )\n",
            ")\n",
            "######################\n",
            "118it [00:18,  6.40it/s]             \n",
            "Epoch 0 of 200\n",
            "Generator loss: 1.40445280, Discriminator loss: 0.97089738\n",
            "118it [00:16,  7.35it/s]             \n",
            "Epoch 1 of 200\n",
            "Generator loss: 2.12985563, Discriminator loss: 0.67171019\n",
            "118it [00:15,  7.80it/s]             \n",
            "Epoch 2 of 200\n",
            "Generator loss: 5.81986094, Discriminator loss: 0.35058728\n",
            "118it [00:16,  7.24it/s]             \n",
            "Epoch 3 of 200\n",
            "Generator loss: 5.74709272, Discriminator loss: 0.21824634\n",
            "118it [00:15,  7.80it/s]             \n",
            "Epoch 4 of 200\n",
            "Generator loss: 5.70836020, Discriminator loss: 0.47088629\n",
            "118it [00:16,  7.29it/s]             \n",
            "Epoch 5 of 200\n",
            "Generator loss: 4.56916904, Discriminator loss: 0.30367365\n",
            "118it [00:15,  7.70it/s]             \n",
            "Epoch 6 of 200\n",
            "Generator loss: 5.44467020, Discriminator loss: 0.47266418\n",
            "118it [00:15,  7.64it/s]             \n",
            "Epoch 7 of 200\n",
            "Generator loss: 3.92289186, Discriminator loss: 0.38475993\n",
            "118it [00:15,  7.74it/s]             \n",
            "Epoch 8 of 200\n",
            "Generator loss: 3.94471288, Discriminator loss: 0.47176495\n",
            "118it [00:16,  7.32it/s]             \n",
            "Epoch 9 of 200\n",
            "Generator loss: 4.45421267, Discriminator loss: 0.40573835\n",
            "118it [00:15,  7.61it/s]             \n",
            "Epoch 10 of 200\n",
            "Generator loss: 3.35144067, Discriminator loss: 0.42318320\n",
            "118it [00:15,  7.66it/s]             \n",
            "Epoch 11 of 200\n",
            "Generator loss: 4.78128672, Discriminator loss: 0.28242970\n",
            "118it [00:15,  7.74it/s]             \n",
            "Epoch 12 of 200\n",
            "Generator loss: 4.60765648, Discriminator loss: 0.17563689\n",
            "118it [00:16,  7.31it/s]             \n",
            "Epoch 13 of 200\n",
            "Generator loss: 4.56421661, Discriminator loss: 0.23758368\n",
            "118it [00:15,  7.68it/s]             \n",
            "Epoch 14 of 200\n",
            "Generator loss: 5.79305840, Discriminator loss: 0.23362774\n",
            "118it [00:18,  6.42it/s]             \n",
            "Epoch 15 of 200\n",
            "Generator loss: 5.23702955, Discriminator loss: 0.25496125\n",
            "118it [00:15,  7.59it/s]             \n",
            "Epoch 16 of 200\n",
            "Generator loss: 4.80010223, Discriminator loss: 0.19229247\n",
            "118it [00:15,  7.48it/s]             \n",
            "Epoch 17 of 200\n",
            "Generator loss: 4.66895008, Discriminator loss: 0.24415620\n",
            "118it [00:15,  7.64it/s]             \n",
            "Epoch 18 of 200\n",
            "Generator loss: 4.51669216, Discriminator loss: 0.37419108\n",
            "118it [00:15,  7.77it/s]             \n",
            "Epoch 19 of 200\n",
            "Generator loss: 4.34363508, Discriminator loss: 0.31071010\n",
            "118it [00:15,  7.38it/s]             \n",
            "Epoch 20 of 200\n",
            "Generator loss: 4.07081985, Discriminator loss: 0.38008690\n",
            "118it [00:15,  7.52it/s]             \n",
            "Epoch 21 of 200\n",
            "Generator loss: 3.96360230, Discriminator loss: 0.38767654\n",
            "118it [00:15,  7.68it/s]             \n",
            "Epoch 22 of 200\n",
            "Generator loss: 3.86023307, Discriminator loss: 0.35060287\n",
            "118it [00:15,  7.77it/s]             \n",
            "Epoch 23 of 200\n",
            "Generator loss: 3.84996533, Discriminator loss: 0.38902879\n",
            "118it [00:15,  7.79it/s]             \n",
            "Epoch 24 of 200\n",
            "Generator loss: 3.67529368, Discriminator loss: 0.44635844\n",
            "118it [00:15,  7.49it/s]             \n",
            "Epoch 25 of 200\n",
            "Generator loss: 3.82047582, Discriminator loss: 0.36733717\n",
            "118it [00:15,  7.72it/s]             \n",
            "Epoch 26 of 200\n",
            "Generator loss: 3.79962802, Discriminator loss: 0.39290679\n",
            "118it [00:15,  7.86it/s]             \n",
            "Epoch 27 of 200\n",
            "Generator loss: 3.48365378, Discriminator loss: 0.52341914\n",
            "118it [00:15,  7.80it/s]             \n",
            "Epoch 28 of 200\n",
            "Generator loss: 3.06990409, Discriminator loss: 0.49616563\n",
            "118it [00:15,  7.69it/s]             \n",
            "Epoch 29 of 200\n",
            "Generator loss: 2.82995987, Discriminator loss: 0.58559597\n",
            "118it [00:15,  7.63it/s]             \n",
            "Epoch 30 of 200\n",
            "Generator loss: 3.16649270, Discriminator loss: 0.45720953\n",
            "118it [00:14,  7.89it/s]             \n",
            "Epoch 31 of 200\n",
            "Generator loss: 3.30498195, Discriminator loss: 0.41934437\n",
            "118it [00:14,  7.97it/s]             \n",
            "Epoch 32 of 200\n",
            "Generator loss: 3.44967794, Discriminator loss: 0.42698622\n",
            "118it [00:14,  7.96it/s]             \n",
            "Epoch 33 of 200\n",
            "Generator loss: 3.47214556, Discriminator loss: 0.41066533\n",
            "118it [00:15,  7.60it/s]             \n",
            "Epoch 34 of 200\n",
            "Generator loss: 3.43223405, Discriminator loss: 0.41992775\n",
            "118it [00:15,  7.79it/s]             \n",
            "Epoch 35 of 200\n",
            "Generator loss: 3.78878188, Discriminator loss: 0.36134517\n",
            "118it [00:15,  7.80it/s]             \n",
            "Epoch 36 of 200\n",
            "Generator loss: 3.53707433, Discriminator loss: 0.39076746\n",
            "118it [00:14,  7.90it/s]             \n",
            "Epoch 37 of 200\n",
            "Generator loss: 3.60619426, Discriminator loss: 0.40129188\n",
            "118it [00:15,  7.86it/s]             \n",
            "Epoch 38 of 200\n",
            "Generator loss: 3.51961851, Discriminator loss: 0.45816758\n",
            "118it [00:15,  7.51it/s]             \n",
            "Epoch 39 of 200\n",
            "Generator loss: 3.11601782, Discriminator loss: 0.44481206\n",
            "118it [00:15,  7.85it/s]             \n",
            "Epoch 40 of 200\n",
            "Generator loss: 3.30200768, Discriminator loss: 0.44099659\n",
            "118it [00:14,  7.98it/s]             \n",
            "Epoch 41 of 200\n",
            "Generator loss: 3.18330812, Discriminator loss: 0.43852925\n",
            "118it [00:15,  7.78it/s]             \n",
            "Epoch 42 of 200\n",
            "Generator loss: 3.10485005, Discriminator loss: 0.46989945\n",
            "118it [00:15,  7.77it/s]             \n",
            "Epoch 43 of 200\n",
            "Generator loss: 3.28897381, Discriminator loss: 0.47359762\n",
            "118it [00:15,  7.58it/s]             \n",
            "Epoch 44 of 200\n",
            "Generator loss: 3.12582684, Discriminator loss: 0.52135158\n",
            "118it [00:14,  7.87it/s]             \n",
            "Epoch 45 of 200\n",
            "Generator loss: 2.78650713, Discriminator loss: 0.56758994\n",
            "118it [00:15,  7.76it/s]             \n",
            "Epoch 46 of 200\n",
            "Generator loss: 3.00679207, Discriminator loss: 0.53344345\n",
            "118it [00:14,  7.89it/s]             \n",
            "Epoch 47 of 200\n",
            "Generator loss: 2.68887377, Discriminator loss: 0.59546393\n",
            "118it [00:15,  7.58it/s]             \n",
            "Epoch 48 of 200\n",
            "Generator loss: 2.69968653, Discriminator loss: 0.53731000\n",
            "118it [00:15,  7.81it/s]             \n",
            "Epoch 49 of 200\n",
            "Generator loss: 2.72823691, Discriminator loss: 0.56736720\n",
            "118it [00:14,  7.91it/s]             \n",
            "Epoch 50 of 200\n",
            "Generator loss: 2.71398306, Discriminator loss: 0.55474204\n",
            "118it [00:14,  7.90it/s]             \n",
            "Epoch 51 of 200\n",
            "Generator loss: 2.83708453, Discriminator loss: 0.54846400\n",
            "118it [00:15,  7.75it/s]             \n",
            "Epoch 52 of 200\n",
            "Generator loss: 2.96322370, Discriminator loss: 0.52846605\n",
            "118it [00:15,  7.38it/s]             \n",
            "Epoch 53 of 200\n",
            "Generator loss: 2.85672879, Discriminator loss: 0.54671782\n",
            "118it [00:15,  7.84it/s]             \n",
            "Epoch 54 of 200\n",
            "Generator loss: 2.78665757, Discriminator loss: 0.57731736\n",
            "118it [00:14,  7.93it/s]             \n",
            "Epoch 55 of 200\n",
            "Generator loss: 2.71158004, Discriminator loss: 0.55122828\n",
            "118it [00:14,  7.94it/s]             \n",
            "Epoch 56 of 200\n",
            "Generator loss: 2.70053720, Discriminator loss: 0.56522804\n",
            "118it [00:14,  7.89it/s]             \n",
            "Epoch 57 of 200\n",
            "Generator loss: 2.63517284, Discriminator loss: 0.60545856\n",
            "118it [00:15,  7.64it/s]             \n",
            "Epoch 58 of 200\n",
            "Generator loss: 2.64837313, Discriminator loss: 0.61873782\n",
            "118it [00:15,  7.84it/s]             \n",
            "Epoch 59 of 200\n",
            "Generator loss: 2.68456244, Discriminator loss: 0.57890981\n",
            "118it [00:14,  7.87it/s]             \n",
            "Epoch 60 of 200\n",
            "Generator loss: 2.55208158, Discriminator loss: 0.56652403\n",
            "118it [00:14,  7.93it/s]             \n",
            "Epoch 61 of 200\n",
            "Generator loss: 2.70949674, Discriminator loss: 0.57146412\n",
            "118it [00:15,  7.59it/s]             \n",
            "Epoch 62 of 200\n",
            "Generator loss: 2.50282955, Discriminator loss: 0.62076205\n",
            "118it [00:15,  7.74it/s]             \n",
            "Epoch 63 of 200\n",
            "Generator loss: 2.36625051, Discriminator loss: 0.61814719\n",
            "118it [00:14,  7.90it/s]             \n",
            "Epoch 64 of 200\n",
            "Generator loss: 2.45062208, Discriminator loss: 0.61087912\n",
            "118it [00:14,  7.88it/s]             \n",
            "Epoch 65 of 200\n",
            "Generator loss: 2.59065247, Discriminator loss: 0.58984667\n",
            "118it [00:15,  7.83it/s]             \n",
            "Epoch 66 of 200\n",
            "Generator loss: 2.57372236, Discriminator loss: 0.60123026\n",
            "118it [00:15,  7.59it/s]             \n",
            "Epoch 67 of 200\n",
            "Generator loss: 2.42354131, Discriminator loss: 0.63782048\n",
            "118it [00:14,  7.94it/s]             \n",
            "Epoch 68 of 200\n",
            "Generator loss: 2.39794254, Discriminator loss: 0.62220389\n",
            "118it [00:14,  8.05it/s]             \n",
            "Epoch 69 of 200\n",
            "Generator loss: 2.40799880, Discriminator loss: 0.63924330\n",
            "118it [00:14,  8.08it/s]             \n",
            "Epoch 70 of 200\n",
            "Generator loss: 2.29763961, Discriminator loss: 0.61215955\n",
            "118it [00:17,  6.57it/s]\n",
            "Epoch 71 of 200\n",
            "Generator loss: 2.49362326, Discriminator loss: 0.60637820\n",
            "118it [00:17,  6.81it/s]             \n",
            "Epoch 72 of 200\n",
            "Generator loss: 2.56201267, Discriminator loss: 0.59231192\n",
            "118it [00:14,  8.05it/s]             \n",
            "Epoch 73 of 200\n",
            "Generator loss: 2.59825540, Discriminator loss: 0.58588952\n",
            "118it [00:19,  6.20it/s]             \n",
            "Epoch 74 of 200\n",
            "Generator loss: 2.52983141, Discriminator loss: 0.59021127\n",
            "118it [00:14,  8.02it/s]             \n",
            "Epoch 75 of 200\n",
            "Generator loss: 2.37705612, Discriminator loss: 0.63285077\n",
            "118it [00:14,  8.02it/s]             \n",
            "Epoch 76 of 200\n",
            "Generator loss: 2.50558829, Discriminator loss: 0.63268608\n",
            "118it [00:14,  7.99it/s]             \n",
            "Epoch 77 of 200\n",
            "Generator loss: 2.48461151, Discriminator loss: 0.60523915\n",
            "118it [00:15,  7.57it/s]             \n",
            "Epoch 78 of 200\n",
            "Generator loss: 2.27099943, Discriminator loss: 0.69929028\n",
            "118it [00:15,  7.62it/s]             \n",
            "Epoch 79 of 200\n",
            "Generator loss: 2.25353098, Discriminator loss: 0.64059025\n",
            "118it [00:14,  8.19it/s]             \n",
            "Epoch 80 of 200\n",
            "Generator loss: 2.20909858, Discriminator loss: 0.68746316\n",
            "118it [00:14,  8.06it/s]             \n",
            "Epoch 81 of 200\n",
            "Generator loss: 2.40112758, Discriminator loss: 0.62552476\n",
            "118it [00:14,  8.09it/s]             \n",
            "Epoch 82 of 200\n",
            "Generator loss: 2.31942415, Discriminator loss: 0.63717496\n",
            "118it [00:14,  8.08it/s]             \n",
            "Epoch 83 of 200\n",
            "Generator loss: 2.27834916, Discriminator loss: 0.66011751\n",
            "118it [00:15,  7.70it/s]             \n",
            "Epoch 84 of 200\n",
            "Generator loss: 2.24857473, Discriminator loss: 0.65635920\n",
            "118it [00:14,  7.98it/s]             \n",
            "Epoch 85 of 200\n",
            "Generator loss: 2.14632773, Discriminator loss: 0.67636514\n",
            "118it [00:14,  8.01it/s]             \n",
            "Epoch 86 of 200\n",
            "Generator loss: 2.22347403, Discriminator loss: 0.69215328\n",
            "118it [00:14,  7.97it/s]             \n",
            "Epoch 87 of 200\n",
            "Generator loss: 2.11067605, Discriminator loss: 0.71743113\n",
            "118it [00:14,  8.14it/s]             \n",
            "Epoch 88 of 200\n",
            "Generator loss: 2.08093452, Discriminator loss: 0.71444815\n",
            "118it [00:15,  7.71it/s]             \n",
            "Epoch 89 of 200\n",
            "Generator loss: 2.14561462, Discriminator loss: 0.67737532\n",
            "118it [00:14,  8.10it/s]             \n",
            "Epoch 90 of 200\n",
            "Generator loss: 2.07306385, Discriminator loss: 0.72231752\n",
            "118it [00:14,  8.06it/s]             \n",
            "Epoch 91 of 200\n",
            "Generator loss: 2.19877696, Discriminator loss: 0.66451252\n",
            "118it [00:14,  8.14it/s]             \n",
            "Epoch 92 of 200\n",
            "Generator loss: 2.24026251, Discriminator loss: 0.68995810\n",
            "118it [00:14,  8.10it/s]             \n",
            "Epoch 93 of 200\n",
            "Generator loss: 2.16671467, Discriminator loss: 0.69531149\n",
            "118it [00:14,  8.00it/s]             \n",
            "Epoch 94 of 200\n",
            "Generator loss: 2.17641068, Discriminator loss: 0.69314033\n",
            "118it [00:14,  7.92it/s]             \n",
            "Epoch 95 of 200\n",
            "Generator loss: 2.10802531, Discriminator loss: 0.73341376\n",
            "118it [00:14,  8.23it/s]             \n",
            "Epoch 96 of 200\n",
            "Generator loss: 2.14944553, Discriminator loss: 0.69572484\n",
            "118it [00:14,  8.18it/s]             \n",
            "Epoch 97 of 200\n",
            "Generator loss: 2.10356808, Discriminator loss: 0.72089058\n",
            "118it [00:14,  8.14it/s]             \n",
            "Epoch 98 of 200\n",
            "Generator loss: 2.04682851, Discriminator loss: 0.72906327\n",
            "118it [00:14,  8.16it/s]             \n",
            "Epoch 99 of 200\n",
            "Generator loss: 2.08952975, Discriminator loss: 0.72858369\n",
            "118it [00:14,  7.96it/s]             \n",
            "Epoch 100 of 200\n",
            "Generator loss: 2.00194454, Discriminator loss: 0.72184825\n",
            "118it [00:14,  7.97it/s]             \n",
            "Epoch 101 of 200\n",
            "Generator loss: 2.27287340, Discriminator loss: 0.68293810\n",
            "118it [00:14,  8.18it/s]             \n",
            "Epoch 102 of 200\n",
            "Generator loss: 2.17779469, Discriminator loss: 0.68137121\n",
            "118it [00:14,  8.09it/s]             \n",
            "Epoch 103 of 200\n",
            "Generator loss: 2.14525151, Discriminator loss: 0.70443946\n",
            "118it [00:14,  8.14it/s]             \n",
            "Epoch 104 of 200\n",
            "Generator loss: 2.06267738, Discriminator loss: 0.72566557\n",
            "118it [00:14,  8.19it/s]             \n",
            "Epoch 105 of 200\n",
            "Generator loss: 2.00035381, Discriminator loss: 0.73765159\n",
            "118it [00:15,  7.76it/s]             \n",
            "Epoch 106 of 200\n",
            "Generator loss: 1.98462141, Discriminator loss: 0.75143033\n",
            "118it [00:14,  8.03it/s]             \n",
            "Epoch 107 of 200\n",
            "Generator loss: 2.00250721, Discriminator loss: 0.72895038\n",
            "118it [00:14,  8.08it/s]             \n",
            "Epoch 108 of 200\n",
            "Generator loss: 1.90121853, Discriminator loss: 0.76638383\n",
            "118it [00:14,  8.11it/s]             \n",
            "Epoch 109 of 200\n",
            "Generator loss: 2.03686762, Discriminator loss: 0.72683060\n",
            "118it [00:14,  8.17it/s]             \n",
            "Epoch 110 of 200\n",
            "Generator loss: 2.12872672, Discriminator loss: 0.70538092\n",
            "118it [00:14,  8.00it/s]             \n",
            "Epoch 111 of 200\n",
            "Generator loss: 2.03959203, Discriminator loss: 0.73074168\n",
            "118it [00:14,  7.92it/s]             \n",
            "Epoch 112 of 200\n",
            "Generator loss: 1.91941929, Discriminator loss: 0.74496680\n",
            "118it [00:14,  8.17it/s]             \n",
            "Epoch 113 of 200\n",
            "Generator loss: 1.98745108, Discriminator loss: 0.71636701\n",
            "118it [00:14,  8.12it/s]             \n",
            "Epoch 114 of 200\n",
            "Generator loss: 1.94082642, Discriminator loss: 0.77502817\n",
            "118it [00:14,  8.09it/s]             \n",
            "Epoch 115 of 200\n",
            "Generator loss: 1.94190645, Discriminator loss: 0.76334000\n",
            "118it [00:14,  8.17it/s]             \n",
            "Epoch 116 of 200\n",
            "Generator loss: 1.89176285, Discriminator loss: 0.77015865\n",
            "118it [00:15,  7.83it/s]             \n",
            "Epoch 117 of 200\n",
            "Generator loss: 1.98305607, Discriminator loss: 0.74174416\n",
            "118it [00:14,  8.00it/s]             \n",
            "Epoch 118 of 200\n",
            "Generator loss: 1.93925238, Discriminator loss: 0.71758622\n",
            "118it [00:14,  8.00it/s]             \n",
            "Epoch 119 of 200\n",
            "Generator loss: 1.97838080, Discriminator loss: 0.75858116\n",
            "118it [00:14,  7.91it/s]             \n",
            "Epoch 120 of 200\n",
            "Generator loss: 1.83859217, Discriminator loss: 0.78108066\n",
            "118it [00:14,  8.06it/s]             \n",
            "Epoch 121 of 200\n",
            "Generator loss: 1.81249809, Discriminator loss: 0.76221842\n",
            "118it [00:15,  7.70it/s]             \n",
            "Epoch 122 of 200\n",
            "Generator loss: 2.00281096, Discriminator loss: 0.73601896\n",
            "118it [00:14,  8.01it/s]             \n",
            "Epoch 123 of 200\n",
            "Generator loss: 1.93825054, Discriminator loss: 0.76048452\n",
            "118it [00:14,  8.07it/s]             \n",
            "Epoch 124 of 200\n",
            "Generator loss: 1.87923717, Discriminator loss: 0.77487361\n",
            "118it [00:14,  8.11it/s]             \n",
            "Epoch 125 of 200\n",
            "Generator loss: 1.95625103, Discriminator loss: 0.72699225\n",
            "118it [00:14,  8.07it/s]             \n",
            "Epoch 126 of 200\n",
            "Generator loss: 1.88282144, Discriminator loss: 0.76523489\n",
            "118it [00:14,  8.12it/s]             \n",
            "Epoch 127 of 200\n",
            "Generator loss: 1.94140327, Discriminator loss: 0.74682224\n",
            "118it [00:15,  7.80it/s]             \n",
            "Epoch 128 of 200\n",
            "Generator loss: 1.80998182, Discriminator loss: 0.79811305\n",
            "118it [00:14,  8.10it/s]             \n",
            "Epoch 129 of 200\n",
            "Generator loss: 1.88232625, Discriminator loss: 0.75810719\n",
            "118it [00:14,  8.02it/s]             \n",
            "Epoch 130 of 200\n",
            "Generator loss: 1.95628726, Discriminator loss: 0.76104695\n",
            "118it [00:14,  8.12it/s]             \n",
            "Epoch 131 of 200\n",
            "Generator loss: 1.95233798, Discriminator loss: 0.73989660\n",
            "118it [00:14,  8.09it/s]             \n",
            "Epoch 132 of 200\n",
            "Generator loss: 1.85639346, Discriminator loss: 0.74482119\n",
            "118it [00:14,  7.89it/s]             \n",
            "Epoch 133 of 200\n",
            "Generator loss: 1.83654857, Discriminator loss: 0.75924242\n",
            "118it [00:14,  8.05it/s]             \n",
            "Epoch 134 of 200\n",
            "Generator loss: 1.89609814, Discriminator loss: 0.77044243\n",
            "118it [00:14,  8.19it/s]             \n",
            "Epoch 135 of 200\n",
            "Generator loss: 1.90795231, Discriminator loss: 0.77466321\n",
            "118it [00:14,  8.21it/s]             \n",
            "Epoch 136 of 200\n",
            "Generator loss: 1.86634505, Discriminator loss: 0.76003909\n",
            "118it [00:14,  8.17it/s]             \n",
            "Epoch 137 of 200\n",
            "Generator loss: 1.95443130, Discriminator loss: 0.75939268\n",
            "118it [00:14,  8.16it/s]             \n",
            "Epoch 138 of 200\n",
            "Generator loss: 1.88479161, Discriminator loss: 0.75988013\n",
            "118it [00:15,  7.77it/s]             \n",
            "Epoch 139 of 200\n",
            "Generator loss: 1.92587519, Discriminator loss: 0.78583324\n",
            "118it [00:14,  8.02it/s]             \n",
            "Epoch 140 of 200\n",
            "Generator loss: 1.95564437, Discriminator loss: 0.74520189\n",
            "118it [00:14,  8.09it/s]             \n",
            "Epoch 141 of 200\n",
            "Generator loss: 1.90375471, Discriminator loss: 0.75425893\n",
            "118it [00:14,  7.97it/s]             \n",
            "Epoch 142 of 200\n",
            "Generator loss: 1.95516896, Discriminator loss: 0.72176832\n",
            "118it [00:15,  7.86it/s]             \n",
            "Epoch 143 of 200\n",
            "Generator loss: 1.84614432, Discriminator loss: 0.79474258\n",
            "118it [00:15,  7.48it/s]             \n",
            "Epoch 144 of 200\n",
            "Generator loss: 1.77777362, Discriminator loss: 0.78806823\n",
            "118it [00:14,  7.96it/s]             \n",
            "Epoch 145 of 200\n",
            "Generator loss: 1.79409862, Discriminator loss: 0.79977530\n",
            "118it [00:14,  7.96it/s]             \n",
            "Epoch 146 of 200\n",
            "Generator loss: 1.81133413, Discriminator loss: 0.77521819\n",
            "118it [00:14,  7.91it/s]             \n",
            "Epoch 147 of 200\n",
            "Generator loss: 1.75968659, Discriminator loss: 0.79932696\n",
            "118it [00:14,  7.91it/s]             \n",
            "Epoch 148 of 200\n",
            "Generator loss: 1.80004132, Discriminator loss: 0.78444350\n",
            "118it [00:15,  7.53it/s]             \n",
            "Epoch 149 of 200\n",
            "Generator loss: 1.75487769, Discriminator loss: 0.78452146\n",
            "118it [00:15,  7.83it/s]             \n",
            "Epoch 150 of 200\n",
            "Generator loss: 1.89701605, Discriminator loss: 0.75732148\n",
            "118it [00:14,  7.90it/s]             \n",
            "Epoch 151 of 200\n",
            "Generator loss: 1.78916514, Discriminator loss: 0.79042268\n",
            "118it [00:14,  7.89it/s]             \n",
            "Epoch 152 of 200\n",
            "Generator loss: 1.73514342, Discriminator loss: 0.80682671\n",
            "118it [00:15,  7.78it/s]             \n",
            "Epoch 153 of 200\n",
            "Generator loss: 1.72930038, Discriminator loss: 0.82733303\n",
            "118it [00:15,  7.67it/s]             \n",
            "Epoch 154 of 200\n",
            "Generator loss: 1.64810228, Discriminator loss: 0.82286841\n",
            "118it [00:14,  7.94it/s]             \n",
            "Epoch 155 of 200\n",
            "Generator loss: 1.82221222, Discriminator loss: 0.80297786\n",
            "118it [00:14,  7.97it/s]             \n",
            "Epoch 156 of 200\n",
            "Generator loss: 1.70885038, Discriminator loss: 0.79863572\n",
            "118it [00:14,  7.96it/s]             \n",
            "Epoch 157 of 200\n",
            "Generator loss: 1.65200877, Discriminator loss: 0.82962775\n",
            "118it [00:15,  7.58it/s]             \n",
            "Epoch 158 of 200\n",
            "Generator loss: 1.67080581, Discriminator loss: 0.83265871\n",
            "118it [00:15,  7.82it/s]             \n",
            "Epoch 159 of 200\n",
            "Generator loss: 1.58283544, Discriminator loss: 0.85681289\n",
            "118it [00:14,  7.93it/s]             \n",
            "Epoch 160 of 200\n",
            "Generator loss: 1.73194671, Discriminator loss: 0.79675508\n",
            "118it [00:14,  7.92it/s]             \n",
            "Epoch 161 of 200\n",
            "Generator loss: 1.66784775, Discriminator loss: 0.81744641\n",
            "118it [00:14,  7.97it/s]             \n",
            "Epoch 162 of 200\n",
            "Generator loss: 1.66219831, Discriminator loss: 0.83336765\n",
            "118it [00:15,  7.56it/s]             \n",
            "Epoch 163 of 200\n",
            "Generator loss: 1.73781157, Discriminator loss: 0.80711436\n",
            "118it [00:15,  7.76it/s]             \n",
            "Epoch 164 of 200\n",
            "Generator loss: 1.61402011, Discriminator loss: 0.82934427\n",
            "118it [00:14,  7.97it/s]             \n",
            "Epoch 165 of 200\n",
            "Generator loss: 1.73706436, Discriminator loss: 0.79938120\n",
            "118it [00:14,  8.02it/s]             \n",
            "Epoch 166 of 200\n",
            "Generator loss: 1.67714214, Discriminator loss: 0.82895952\n",
            "118it [00:14,  7.94it/s]             \n",
            "Epoch 167 of 200\n",
            "Generator loss: 1.71196628, Discriminator loss: 0.82267237\n",
            "118it [00:15,  7.65it/s]             \n",
            "Epoch 168 of 200\n",
            "Generator loss: 1.69611645, Discriminator loss: 0.84402192\n",
            "118it [00:15,  7.83it/s]             \n",
            "Epoch 169 of 200\n",
            "Generator loss: 1.75786054, Discriminator loss: 0.82768708\n",
            "118it [00:14,  7.89it/s]             \n",
            "Epoch 170 of 200\n",
            "Generator loss: 1.67779565, Discriminator loss: 0.81883687\n",
            "118it [00:15,  7.76it/s]             \n",
            "Epoch 171 of 200\n",
            "Generator loss: 1.69262934, Discriminator loss: 0.81559807\n",
            "118it [00:14,  7.93it/s]             \n",
            "Epoch 172 of 200\n",
            "Generator loss: 1.75418699, Discriminator loss: 0.81367838\n",
            "118it [00:15,  7.52it/s]             \n",
            "Epoch 173 of 200\n",
            "Generator loss: 1.70692778, Discriminator loss: 0.81338072\n",
            "118it [00:14,  7.93it/s]             \n",
            "Epoch 174 of 200\n",
            "Generator loss: 1.69479620, Discriminator loss: 0.81281888\n",
            "118it [00:14,  7.98it/s]             \n",
            "Epoch 175 of 200\n",
            "Generator loss: 1.73803353, Discriminator loss: 0.78089947\n",
            "118it [00:14,  8.03it/s]             \n",
            "Epoch 176 of 200\n",
            "Generator loss: 1.76149857, Discriminator loss: 0.81763023\n",
            "118it [00:14,  7.97it/s]             \n",
            "Epoch 177 of 200\n",
            "Generator loss: 1.63195813, Discriminator loss: 0.84488469\n",
            "118it [00:15,  7.59it/s]             \n",
            "Epoch 178 of 200\n",
            "Generator loss: 1.79618573, Discriminator loss: 0.80053163\n",
            "118it [00:14,  7.97it/s]             \n",
            "Epoch 179 of 200\n",
            "Generator loss: 1.68949127, Discriminator loss: 0.83697128\n",
            "118it [00:14,  8.02it/s]             \n",
            "Epoch 180 of 200\n",
            "Generator loss: 1.73807466, Discriminator loss: 0.80836630\n",
            "118it [00:14,  8.00it/s]             \n",
            "Epoch 181 of 200\n",
            "Generator loss: 1.65333462, Discriminator loss: 0.82885063\n",
            "118it [00:14,  7.96it/s]             \n",
            "Epoch 182 of 200\n",
            "Generator loss: 1.62089968, Discriminator loss: 0.85198206\n",
            "118it [00:15,  7.66it/s]             \n",
            "Epoch 183 of 200\n",
            "Generator loss: 1.74576378, Discriminator loss: 0.80656421\n",
            "118it [00:14,  7.95it/s]             \n",
            "Epoch 184 of 200\n",
            "Generator loss: 1.73973930, Discriminator loss: 0.83116639\n",
            "118it [00:14,  7.99it/s]             \n",
            "Epoch 185 of 200\n",
            "Generator loss: 1.70132446, Discriminator loss: 0.81712770\n",
            "118it [00:14,  7.98it/s]             \n",
            "Epoch 186 of 200\n",
            "Generator loss: 1.70540106, Discriminator loss: 0.79928309\n",
            "118it [00:14,  7.96it/s]             \n",
            "Epoch 187 of 200\n",
            "Generator loss: 1.62577152, Discriminator loss: 0.84912902\n",
            "118it [00:15,  7.70it/s]             \n",
            "Epoch 188 of 200\n",
            "Generator loss: 1.62284672, Discriminator loss: 0.86790681\n",
            "118it [00:14,  7.92it/s]             \n",
            "Epoch 189 of 200\n",
            "Generator loss: 1.68710518, Discriminator loss: 0.82048893\n",
            "118it [00:14,  8.05it/s]             \n",
            "Epoch 190 of 200\n",
            "Generator loss: 1.56961834, Discriminator loss: 0.85226768\n",
            "118it [00:14,  7.87it/s]             \n",
            "Epoch 191 of 200\n",
            "Generator loss: 1.53406751, Discriminator loss: 0.87853163\n",
            "118it [00:14,  8.08it/s]             \n",
            "Epoch 192 of 200\n",
            "Generator loss: 1.60713232, Discriminator loss: 0.84288675\n",
            "118it [00:15,  7.79it/s]             \n",
            "Epoch 193 of 200\n",
            "Generator loss: 1.59125066, Discriminator loss: 0.85763431\n",
            "118it [00:14,  7.89it/s]             \n",
            "Epoch 194 of 200\n",
            "Generator loss: 1.62540758, Discriminator loss: 0.85441566\n",
            "118it [00:14,  7.98it/s]             \n",
            "Epoch 195 of 200\n",
            "Generator loss: 1.66631150, Discriminator loss: 0.81349826\n",
            "118it [00:14,  7.95it/s]             \n",
            "Epoch 196 of 200\n",
            "Generator loss: 1.65219295, Discriminator loss: 0.83711368\n",
            "118it [00:14,  7.98it/s]             \n",
            "Epoch 197 of 200\n",
            "Generator loss: 1.65251505, Discriminator loss: 0.87358677\n",
            "118it [00:15,  7.83it/s]             \n",
            "Epoch 198 of 200\n",
            "Generator loss: 1.54422116, Discriminator loss: 0.89343417\n",
            "118it [00:15,  7.65it/s]             \n",
            "Epoch 199 of 200\n",
            "Generator loss: 1.64760625, Discriminator loss: 0.86031795\n",
            "DONE TRAINING\n",
            "Traceback (most recent call last):\n",
            "  File \"/content/vanilla_gan.py\", line 209, in <module>\n",
            "    plt.plot(losses_g, label='Generator loss')\n",
            "  File \"/usr/local/lib/python3.9/dist-packages/matplotlib/pyplot.py\", line 2812, in plot\n",
            "    return gca().plot(\n",
            "  File \"/usr/local/lib/python3.9/dist-packages/matplotlib/axes/_axes.py\", line 1688, in plot\n",
            "    lines = [*self._get_lines(*args, data=data, **kwargs)]\n",
            "  File \"/usr/local/lib/python3.9/dist-packages/matplotlib/axes/_base.py\", line 311, in __call__\n",
            "    yield from self._plot_args(\n",
            "  File \"/usr/local/lib/python3.9/dist-packages/matplotlib/axes/_base.py\", line 496, in _plot_args\n",
            "    x, y = index_of(xy[-1])\n",
            "  File \"/usr/local/lib/python3.9/dist-packages/matplotlib/cbook/__init__.py\", line 1656, in index_of\n",
            "    y = _check_1d(y)\n",
            "  File \"/usr/local/lib/python3.9/dist-packages/matplotlib/cbook/__init__.py\", line 1348, in _check_1d\n",
            "    return np.atleast_1d(x)\n",
            "  File \"<__array_function__ internals>\", line 180, in atleast_1d\n",
            "  File \"/usr/local/lib/python3.9/dist-packages/numpy/core/shape_base.py\", line 65, in atleast_1d\n",
            "    ary = asanyarray(ary)\n",
            "  File \"/usr/local/lib/python3.9/dist-packages/torch/_tensor.py\", line 956, in __array__\n",
            "    return self.numpy()\n",
            "TypeError: can't convert cuda:0 device type tensor to numpy. Use Tensor.cpu() to copy the tensor to host memory first.\n"
          ]
        }
      ]
    },
    {
      "cell_type": "code",
      "metadata": {
        "id": "jYJgc9K4W03I",
        "colab": {
          "base_uri": "https://localhost:8080/"
        },
        "outputId": "2d7384ac-633c-4712-8551-e2e6c9b4be99"
      },
      "source": [
        "print('DONE TRAINING')\n",
        "torch.save(generator.state_dict(), 'outputs/generator.pth')"
      ],
      "execution_count": 38,
      "outputs": [
        {
          "output_type": "stream",
          "name": "stdout",
          "text": [
            "DONE TRAINING\n"
          ]
        }
      ]
    },
    {
      "cell_type": "code",
      "source": [
        "# save the generated images as GIF file\n",
        "imgs = [np.array(to_pil_image(img)) for img in images]\n",
        "imageio.mimsave('outputs/generator_images.gif', imgs)"
      ],
      "metadata": {
        "id": "w6ugNQs8ibLn"
      },
      "execution_count": 39,
      "outputs": []
    },
    {
      "cell_type": "code",
      "source": [
        "# plot and save the generator and discriminator loss\n",
        "plt.figure()\n",
        "plt.plot([losses_g[i].cpu().detach().numpy() for i in range (len(losses_g))], label='Generator loss')\n",
        "plt.plot([losses_d[i].cpu().detach().numpy() for i in range (len(losses_d))], label='Discriminator Loss')\n",
        "#plt.plot(losses_g, label='Generator loss')\n",
        "#plt.plot(losses_d, label='Discriminator Loss')\n",
        "plt.legend()\n",
        "plt.savefig('outputs/loss.png')"
      ],
      "metadata": {
        "colab": {
          "base_uri": "https://localhost:8080/",
          "height": 265
        },
        "id": "ybIQ8vGbidMz",
        "outputId": "a3cb0948-2863-4c0a-baaf-569a01c51b78"
      },
      "execution_count": 40,
      "outputs": [
        {
          "output_type": "display_data",
          "data": {
            "text/plain": [
              "<Figure size 432x288 with 1 Axes>"
            ],
            "image/png": "[encoded data removed]"
          },
          "metadata": {}
        }
      ]
    }
  ]
}