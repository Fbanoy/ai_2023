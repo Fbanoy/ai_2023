{
  "nbformat": 4,
  "nbformat_minor": 0,
  "metadata": {
    "colab": {
      "provenance": [],
      "include_colab_link": true
    },
    "kernelspec": {
      "name": "python3",
      "display_name": "Python 3"
    },
    "language_info": {
      "name": "python"
    }
  },
  "cells": [
    {
      "cell_type": "markdown",
      "metadata": {
        "id": "view-in-github",
        "colab_type": "text"
      },
      "source": [
        "<a href=\"https://colab.research.google.com/github/scardenol/ai_2023/blob/main/2.%20Hybrid%20supervised/GAN/src/mnist_lenet5.ipynb\" target=\"_parent\"><img src=\"https://colab.research.google.com/assets/colab-badge.svg\" alt=\"Open In Colab\"/></a>"
      ]
    },
    {
      "cell_type": "markdown",
      "source": [
        "# Run only once!"
      ],
      "metadata": {
        "id": "N26vqdQnsZAs"
      }
    },
    {
      "cell_type": "markdown",
      "source": [
        "## Clone GitHub repo ([link to source](https://github.com/scardenol/ai_2023))"
      ],
      "metadata": {
        "id": "EohRjKyqmkGT"
      }
    },
    {
      "cell_type": "code",
      "source": [
        "!git clone https://github.com/scardenol/ai_2023.git"
      ],
      "metadata": {
        "id": "M5S4tr-3mvZ-",
        "outputId": "09edecc0-4083-451b-99eb-bc7045ecfda5",
        "colab": {
          "base_uri": "https://localhost:8080/"
        }
      },
      "execution_count": 1,
      "outputs": [
        {
          "output_type": "stream",
          "name": "stdout",
          "text": [
            "Cloning into 'ai_2023'...\n",
            "remote: Enumerating objects: 253, done.\u001b[K\n",
            "remote: Counting objects: 100% (24/24), done.\u001b[K\n",
            "remote: Compressing objects: 100% (22/22), done.\u001b[K\n",
            "remote: Total 253 (delta 6), reused 7 (delta 2), pack-reused 229\u001b[K\n",
            "Receiving objects: 100% (253/253), 85.96 MiB | 24.61 MiB/s, done.\n",
            "Resolving deltas: 100% (70/70), done.\n"
          ]
        }
      ]
    },
    {
      "cell_type": "markdown",
      "source": [
        "## Set working directory to import custom modules"
      ],
      "metadata": {
        "id": "UkIBVvbtnqMc"
      }
    },
    {
      "cell_type": "code",
      "source": [
        "%cd \"ai_2023/2. Hybrid supervised/CNN/ourMNIST/\""
      ],
      "metadata": {
        "id": "0FeAkbDQnpdC",
        "outputId": "aa97edba-bad2-480e-c0dc-1977acdcfa32",
        "colab": {
          "base_uri": "https://localhost:8080/"
        }
      },
      "execution_count": 2,
      "outputs": [
        {
          "output_type": "stream",
          "name": "stdout",
          "text": [
            "/content/ai_2023/2. Hybrid supervised/CNN/ourMNIST\n"
          ]
        }
      ]
    },
    {
      "cell_type": "markdown",
      "source": [
        "# Load required libraries and modules"
      ],
      "metadata": {
        "id": "L-HVSTaboW3z"
      }
    },
    {
      "cell_type": "code",
      "source": [
        "import tensorflow as tf\n",
        "from tensorflow import keras\n",
        "import numpy as np\n",
        "import matplotlib.pyplot as plt\n",
        "import load # JP's module"
      ],
      "metadata": {
        "id": "Mi-6X-5Copal"
      },
      "execution_count": 3,
      "outputs": []
    },
    {
      "cell_type": "markdown",
      "source": [
        "# Load data"
      ],
      "metadata": {
        "id": "ZarO2GskofT4"
      }
    },
    {
      "cell_type": "code",
      "source": [
        "# Load images and labels from created data base\n",
        "images, labels = load.load_all()"
      ],
      "metadata": {
        "id": "VtUliE0Rlq_9"
      },
      "execution_count": 4,
      "outputs": []
    },
    {
      "cell_type": "markdown",
      "source": [
        "# Prepare the data"
      ],
      "metadata": {
        "id": "Up2IeGVBo4iB"
      }
    },
    {
      "cell_type": "code",
      "source": [
        "# Separate images and labels in train and test samples\n",
        "rp=np.random.permutation(len(labels))\n",
        "\n",
        "subset_size = int(0.8 * len(rp))\n",
        "subset_indices = rp[:subset_size]\n",
        "train_image = [images[i] for i in subset_indices]\n",
        "train_labels = [labels[i] for i in subset_indices]\n",
        "train_labels = np.array(train_labels)\n",
        "train_labels= train_labels.astype(np.uint8)\n",
        "test_image = [images[i] for i in rp if i not in subset_indices]\n",
        "test_labels = [labels[i] for i in rp if i not in subset_indices]\n",
        "test_labels = np.array(test_labels)\n",
        "test_labels= test_labels.astype(np.uint8)"
      ],
      "metadata": {
        "id": "lvL7P1GqkJJE"
      },
      "execution_count": 5,
      "outputs": []
    },
    {
      "cell_type": "code",
      "source": [
        "# Expand image dimensions to agree with tensorflow input format\n",
        "train_image = tf.expand_dims(train_image, 3)\n",
        "test_image= tf.expand_dims(test_image, 3)\n",
        "\n",
        "# Retrieve the validation sample from the previous train set\n",
        "val_x = train_image[:5000]\n",
        "val_y = train_labels[:5000]"
      ],
      "metadata": {
        "id": "N55tYFnfnJgh"
      },
      "execution_count": 6,
      "outputs": []
    },
    {
      "cell_type": "markdown",
      "source": [
        "# Build the LeNet 5 network with keras and tensorflow"
      ],
      "metadata": {
        "id": "bKMN25eIqSgf"
      }
    },
    {
      "cell_type": "code",
      "source": [
        "# Build the network structure\n",
        "lenet_5_model = keras.models.Sequential([\n",
        "    keras.layers.Conv2D(6, kernel_size=5, strides=1,  activation='tanh', input_shape=train_image[0].shape, padding='same'), #C1\n",
        "    keras.layers.AveragePooling2D(), #S2\n",
        "    keras.layers.Conv2D(16, kernel_size=5, strides=1, activation='tanh', padding='valid'), #C3\n",
        "    keras.layers.AveragePooling2D(), #S4\n",
        "    keras.layers.Flatten(), #Flatten\n",
        "    keras.layers.Dense(120, activation='tanh'), #C5\n",
        "    keras.layers.Dense(84, activation='tanh'), #F6\n",
        "    keras.layers.Dense(10, activation='softmax') #Output layer\n",
        "])"
      ],
      "metadata": {
        "id": "9ktBJbTEo_fp"
      },
      "execution_count": 7,
      "outputs": []
    },
    {
      "cell_type": "code",
      "source": [
        "# Define the network optimizer\n",
        "lenet_5_model.compile(optimizer='adam', loss=keras.losses.sparse_categorical_crossentropy, metrics=['accuracy'])"
      ],
      "metadata": {
        "id": "IsE4SISqpDfv"
      },
      "execution_count": 8,
      "outputs": []
    },
    {
      "cell_type": "markdown",
      "source": [
        "# Retrain the network with our created data base "
      ],
      "metadata": {
        "id": "yle5zWSOruB4"
      }
    },
    {
      "cell_type": "code",
      "source": [
        "# Train the network and perform validation with 10% of the training data\n",
        "history =  lenet_5_model.fit(train_image, train_labels, epochs=10, validation_split = 0.1)"
      ],
      "metadata": {
        "colab": {
          "base_uri": "https://localhost:8080/"
        },
        "id": "SR_ptLhQpJNr",
        "outputId": "5bd372c4-0d92-4124-db5a-552d7f0e09df"
      },
      "execution_count": 9,
      "outputs": [
        {
          "output_type": "stream",
          "name": "stdout",
          "text": [
            "Epoch 1/10\n",
            "14/14 [==============================] - 6s 149ms/step - loss: 2.2996 - accuracy: 0.1298 - val_loss: 2.2474 - val_accuracy: 0.1429\n",
            "Epoch 2/10\n",
            "14/14 [==============================] - 1s 86ms/step - loss: 2.1665 - accuracy: 0.2346 - val_loss: 2.1413 - val_accuracy: 0.2653\n",
            "Epoch 3/10\n",
            "14/14 [==============================] - 1s 76ms/step - loss: 1.9963 - accuracy: 0.3349 - val_loss: 1.8772 - val_accuracy: 0.3878\n",
            "Epoch 4/10\n",
            "14/14 [==============================] - 1s 61ms/step - loss: 1.7708 - accuracy: 0.4214 - val_loss: 1.5975 - val_accuracy: 0.4898\n",
            "Epoch 5/10\n",
            "14/14 [==============================] - 1s 48ms/step - loss: 1.5969 - accuracy: 0.4852 - val_loss: 1.4535 - val_accuracy: 0.4898\n",
            "Epoch 6/10\n",
            "14/14 [==============================] - 1s 49ms/step - loss: 1.4860 - accuracy: 0.5216 - val_loss: 1.3543 - val_accuracy: 0.5918\n",
            "Epoch 7/10\n",
            "14/14 [==============================] - 1s 45ms/step - loss: 1.3822 - accuracy: 0.5740 - val_loss: 1.2245 - val_accuracy: 0.6327\n",
            "Epoch 8/10\n",
            "14/14 [==============================] - 1s 49ms/step - loss: 1.3132 - accuracy: 0.5740 - val_loss: 1.2743 - val_accuracy: 0.6327\n",
            "Epoch 9/10\n",
            "14/14 [==============================] - 1s 49ms/step - loss: 1.2608 - accuracy: 0.5945 - val_loss: 1.1735 - val_accuracy: 0.6327\n",
            "Epoch 10/10\n",
            "14/14 [==============================] - 1s 48ms/step - loss: 1.1875 - accuracy: 0.6355 - val_loss: 1.1848 - val_accuracy: 0.6327\n"
          ]
        }
      ]
    },
    {
      "cell_type": "markdown",
      "source": [
        "# Visualize and save results"
      ],
      "metadata": {
        "id": "lNgLO2sxr2kr"
      }
    },
    {
      "cell_type": "code",
      "source": [
        "# Print the performance metrics\n",
        "_, train_acc = lenet_5_model.evaluate(train_image, train_labels, verbose=0)\n",
        "_, test_acc = lenet_5_model.evaluate(test_image, test_labels, verbose=0)\n",
        "print('Train: %.3f, Test: %.3f' % (train_acc, test_acc))"
      ],
      "metadata": {
        "id": "lIADlwKpr97k",
        "outputId": "08022a1a-6ace-44f6-aeae-d4593d4b26fe",
        "colab": {
          "base_uri": "https://localhost:8080/"
        }
      },
      "execution_count": 10,
      "outputs": [
        {
          "output_type": "stream",
          "name": "stdout",
          "text": [
            "Train: 0.650, Test: 0.557\n"
          ]
        }
      ]
    },
    {
      "cell_type": "code",
      "source": [
        "# Plot the loss during training\n",
        "plt.subplot(211)\n",
        "plt.title('Loss')\n",
        "plt.plot(history.history['loss'], label='train')\n",
        "plt.plot(history.history['val_loss'], label='validation')\n",
        "plt.legend();\n",
        "# Plot the accuracy during training\n",
        "plt.subplot(212)\n",
        "plt.title('Accuracy')\n",
        "plt.plot(history.history['accuracy'], label='train')\n",
        "plt.plot(history.history['val_accuracy'], label='validation')\n",
        "plt.legend()\n",
        "plt.tight_layout(pad=1.0)\n",
        "plt.savefig('/content/loss.png');"
      ],
      "metadata": {
        "colab": {
          "base_uri": "https://localhost:8080/",
          "height": 299
        },
        "id": "OfXDPc-EqJ3w",
        "outputId": "f986800f-0ee4-403a-ff26-9d22fc1e1ca6"
      },
      "execution_count": 11,
      "outputs": [
        {
          "output_type": "display_data",
          "data": {
            "text/plain": [
              "<Figure size 432x288 with 2 Axes>"
            ],
            "image/png": "[encoded data removed]"
          },
          "metadata": {
            "needs_background": "light"
          }
        }
      ]
    }
  ]
}