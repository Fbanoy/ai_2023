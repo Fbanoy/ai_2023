{
 "cells": [
  {
   "attachments": {},
   "cell_type": "markdown",
   "metadata": {},
   "source": [
    "### Norms and cosine distance\n",
    "1. [Wolfram](https://mathworld.wolfram.com/MatrixNorm.html)\n",
    "2. [CS Cornell](https://www.cs.cornell.edu/courses/cs4220/2013sp/CVLBook/chap5.pdf)\n",
    "3. [MATLAB](https://la.mathworks.com/help/matlab/ref/norm.html)\n",
    "4. [Numpy](https://numpy.org/doc/stable/reference/generated/numpy.linalg.norm.html)\n",
    "5. [Cosine distance](https://en.wikipedia.org/wiki/Cosine_similarity). It is only defined for vectors? $\\lang x, y \\rang = \\|x\\| \\|y\\| \\cos\\theta$ is true for any inner product? An example of matrix inner product?<br>\n",
    "    - [Matrix inner product](https://sharmaeklavya2.github.io/theoremdep/nodes/linear-algebra/matrices/inner-product-space.html)"
   ]
  },
  {
   "cell_type": "code",
   "execution_count": 22,
   "metadata": {},
   "outputs": [],
   "source": [
    "import numpy as np\n",
    "import timeit\n",
    "# import inspect\n",
    "# print(inspect.getsource(np.linalg.norm))\n",
    "\n",
    "def my_norm_switch(   \n",
    "        A: np.ndarray,\n",
    "        type = 'fro') -> float:\n",
    "    # Parameters pre-processing.\n",
    "    type = str(type).lower()\n",
    "\n",
    "    my_switch = {\n",
    "    'fro': np.sqrt(np.sum(np.power(A, 2))),\n",
    "    # By the min-max theorem, the 2-norm matrix is the largest singular value.\n",
    "    '2': np.linalg.svd(A)[1][0],\n",
    "    '1': np.max(np.sum(A, axis=0)),\n",
    "    'inf' : np.max(np.sum(A, axis=1))\n",
    "    }\n",
    "\n",
    "    return my_switch.get(type, 'Invalid type')\n",
    "\n",
    "def my_norm_if(   \n",
    "        A: np.ndarray,\n",
    "        type = 'fro') -> float:\n",
    "    if A.ndim == 2:\n",
    "        if type=='fro':\n",
    "            ret = np.sqrt(np.sum(np.power(A, 2)))\n",
    "            # ret = np.sqrt(np.trace(A @ A.T))\n",
    "        elif type == 2:\n",
    "            # By the min-max theorem, the 2-norm matrix is the largest singular value.\n",
    "            ret =  np.linalg.svd(A)[1][0]\n",
    "        elif type == 1:\n",
    "            ret = np.max(np.sum(A, axis=0))\n",
    "        elif type == np.inf:\n",
    "            ret = np.max(np.sum(A, axis=1))\n",
    "        else:\n",
    "            raise ValueError(\"Invalid norm type for matrices.\")\n",
    "    else:\n",
    "        raise ValueError(\"Invalid matrix dimension (must be 2D).\")\n",
    "    \n",
    "    return ret\n",
    "\n",
    "def matrixInnerProduct(A, B):\n",
    "    # The conjugate is the generalization (complex numbers) of the inner product to matrices.\n",
    "    return np.trace(A @ np.matrix.conjugate(B.T))\n",
    "\n",
    "def cosineDistance(a, b):\n",
    "    if a.ndim == 1 and b.ndim == 1:\n",
    "        Sc = np.dot(a, b) / (np.linalg.norm(a, ord=2) * np.linalg.norm(b, ord=2))\n",
    "    elif a.ndim == 2 and b.ndim == 2:\n",
    "        Sc = matrixInnerProduct(a, b) / np.sqrt(matrixInnerProduct(a, a) * matrixInnerProduct(b, b))\n",
    "    else:\n",
    "        raise ValueError(\"Cosine distance is only defined for vectors and matrices.\")\n",
    "    return 1 - Sc"
   ]
  },
  {
   "attachments": {},
   "cell_type": "markdown",
   "metadata": {},
   "source": [
    "### Examples"
   ]
  },
  {
   "cell_type": "code",
   "execution_count": 42,
   "metadata": {},
   "outputs": [],
   "source": [
    "# Validate the cosine distance for vectors.\n",
    "a = np.array([1,0,1])\n",
    "b = np.array([1,0,0])\n",
    "c = np.array([1,1,1])\n",
    "\n",
    "assert cosineDistance(a, b) >= 0\n",
    "assert cosineDistance(a, b) == cosineDistance(b, a)\n",
    "assert cosineDistance(a, b) <= cosineDistance(a, c) + cosineDistance(c, b)\n"
   ]
  },
  {
   "cell_type": "code",
   "execution_count": 41,
   "metadata": {},
   "outputs": [],
   "source": [
    "# Validate the cosine distance for matrices.\n",
    "A = np.array([[1, 2, 3], [4, 5, 6], [7, 8, 9]])\n",
    "B = np.array([[1, 2, 3], [4, 0, 6], [7, 8, 9]])\n",
    "# It is not defined for zeros matrices.\n",
    "# B = np.zeros(A.shape)\n",
    "C = np.ones(A.shape)\n",
    "\n",
    "assert cosineDistance(A, B) >= 0\n",
    "assert cosineDistance(A, B) == cosineDistance(B, A)\n",
    "assert cosineDistance(A, B) <= cosineDistance(A, C) + cosineDistance(C, B)"
   ]
  },
  {
   "cell_type": "code",
   "execution_count": 40,
   "metadata": {},
   "outputs": [
    {
     "name": "stderr",
     "output_type": "stream",
     "text": [
      "/var/folders/81/k3c_c4qs1ldcb8jbks6zcshw0000gn/T/ipykernel_72206/845792885.py:53: RuntimeWarning: invalid value encountered in double_scalars\n",
      "  Sc = matrixInnerProduct(A, B) / np.sqrt(matrixInnerProduct(A, A) * matrixInnerProduct(B,B))\n"
     ]
    },
    {
     "data": {
      "text/plain": [
       "nan"
      ]
     },
     "execution_count": 40,
     "metadata": {},
     "output_type": "execute_result"
    }
   ],
   "source": [
    "A = np.array([[1, 2, 3], [4, 5, 6], [7, 8, 9]])\n",
    "B = np.zeros(A.shape)\n",
    "# It is not defined for zeros matrices.\n",
    "cosineDistance(A, B)"
   ]
  },
  {
   "cell_type": "code",
   "execution_count": 190,
   "metadata": {},
   "outputs": [],
   "source": [
    "# Test if our norms are identical to numpy's.\n",
    "As = [np.array([[1, 2, 3], [4, 5, 6], [7, 8, 9]]), np.random.rand(3, 3)]\n",
    "types = [np.inf, 'fro', 2, 1]\n",
    "\n",
    "for A in As:\n",
    "    for type in types:\n",
    "        assert (np.linalg.norm(A, ord=type) - my_norm_if(A, type=type)) < 1e-10\n",
    "        assert (my_norm_switch(A, type=type) - my_norm_if(A, type=type)) < 1e-10"
   ]
  },
  {
   "attachments": {},
   "cell_type": "markdown",
   "metadata": {},
   "source": [
    "### Time complexity"
   ]
  },
  {
   "cell_type": "code",
   "execution_count": 189,
   "metadata": {},
   "outputs": [
    {
     "name": "stdout",
     "output_type": "stream",
     "text": [
      "Numpy execution: 0.042156916999374516 seconds\n",
      "If execution: 0.0428554999998596 seconds\n",
      "Switch execution: 0.19274270799996884 seconds\n"
     ]
    }
   ],
   "source": [
    "print(\"Numpy execution:\", timeit.timeit(\\\n",
    "    lambda: np.linalg.norm(A, ord=1), number=10000), \"seconds\")\n",
    "\n",
    "print(\"If execution:\", timeit.timeit(\\\n",
    "    lambda: my_norm_if(A, 1), number=10000), \"seconds\")\n",
    "\n",
    "print(\"Switch execution:\", timeit.timeit(\\\n",
    "    lambda: my_norm_switch(A, '1'), number=10000), \"seconds\")"
   ]
  }
 ],
 "metadata": {
  "kernelspec": {
   "display_name": "Python 3",
   "language": "python",
   "name": "python3"
  },
  "language_info": {
   "codemirror_mode": {
    "name": "ipython",
    "version": 3
   },
   "file_extension": ".py",
   "mimetype": "text/x-python",
   "name": "python",
   "nbconvert_exporter": "python",
   "pygments_lexer": "ipython3",
   "version": "3.9.10"
  },
  "orig_nbformat": 4
 },
 "nbformat": 4,
 "nbformat_minor": 2
}
