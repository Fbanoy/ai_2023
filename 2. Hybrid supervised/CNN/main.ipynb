{
  "nbformat": 4,
  "nbformat_minor": 0,
  "metadata": {
    "colab": {
      "provenance": [],
      "authorship_tag": "ABX9TyN71jSsXmyA70eromD6vtPd",
      "include_colab_link": true
    },
    "kernelspec": {
      "name": "python3",
      "display_name": "Python 3"
    },
    "language_info": {
      "name": "python"
    }
  },
  "cells": [
    {
      "cell_type": "markdown",
      "metadata": {
        "id": "view-in-github",
        "colab_type": "text"
      },
      "source": [
        "<a href=\"https://colab.research.google.com/github/scardenol/ai_2023/blob/main/2.%20Hybrid%20supervised/CNN/main.ipynb\" target=\"_parent\"><img src=\"https://colab.research.google.com/assets/colab-badge.svg\" alt=\"Open In Colab\"/></a>"
      ]
    },
    {
      "cell_type": "markdown",
      "source": [
        "# Clone `ourMNIST` folder from github repo\n",
        "\n"
      ],
      "metadata": {
        "id": "a8N7xgzIj7Ze"
      }
    },
    {
      "cell_type": "code",
      "execution_count": 1,
      "metadata": {
        "colab": {
          "base_uri": "https://localhost:8080/"
        },
        "id": "Zz9-EBWhj3HZ",
        "outputId": "4f446d32-9c71-4e6d-c9ce-741e7e8e482c"
      },
      "outputs": [
        {
          "output_type": "stream",
          "name": "stdout",
          "text": [
            "Archive:  ourMNIST.zip\n",
            " extracting: ourMNIST/cossio.csv     \n",
            " extracting: ourMNIST/cossio.png     \n",
            " extracting: ourMNIST/FBanoy.png     \n",
            " extracting: ourMNIST/jpossaz.png    \n",
            " extracting: ourMNIST/jpossaz2.png   \n",
            " extracting: ourMNIST/JuanRengifo.png  \n",
            " extracting: ourMNIST/load.py        \n",
            " extracting: ourMNIST/scardenol.jpg  \n",
            " extracting: ourMNIST/thoyosg.png    \n"
          ]
        }
      ],
      "source": [
        "import urllib.request  # the lib that handles the url stuff\n",
        "\n",
        "# Read data from github repo by url\n",
        "# Load zip file containing folder from link\n",
        "file_url = \"https://github.com/scardenol/ai_2023/blob/main/2.%20Hybrid%20supervised/CNN/ourMNIST.zip?raw=true\"\n",
        "file_name = \"ourMNIST.zip\"\n",
        "file = urllib.request.urlretrieve(file_url, file_name)\n",
        "\n",
        "# Unzip folder\n",
        "!unzip ourMNIST.zip\n",
        "\n",
        "# Delete zip file\n",
        "!rm ourMNIST.zip"
      ]
    },
    {
      "cell_type": "markdown",
      "source": [
        "# Set working directory to inside the ourMNIST folder"
      ],
      "metadata": {
        "id": "RmAFpSZqoTgV"
      }
    },
    {
      "cell_type": "code",
      "source": [
        "%cd ourMNIST"
      ],
      "metadata": {
        "colab": {
          "base_uri": "https://localhost:8080/"
        },
        "id": "cK2MIbgJn1m3",
        "outputId": "3d487fd7-8118-4263-9dd1-1191dac53f32"
      },
      "execution_count": 2,
      "outputs": [
        {
          "output_type": "stream",
          "name": "stdout",
          "text": [
            "/content/ourMNIST\n"
          ]
        }
      ]
    },
    {
      "cell_type": "markdown",
      "source": [
        "# Import `load.py` as a module and make a call to the `load_all` method\n",
        "\n",
        "\n",
        "\n"
      ],
      "metadata": {
        "id": "s1bnw6cfnhJN"
      }
    },
    {
      "cell_type": "code",
      "source": [
        "import load\n",
        "images, labels = load.load_all() "
      ],
      "metadata": {
        "id": "yu_oYvoqnwVR"
      },
      "execution_count": 3,
      "outputs": []
    },
    {
      "cell_type": "code",
      "source": [
        "images"
      ],
      "metadata": {
        "colab": {
          "base_uri": "https://localhost:8080/"
        },
        "id": "1DokRMCLoN2O",
        "outputId": "32a6264f-5431-4215-d972-1181163fdf80"
      },
      "execution_count": 4,
      "outputs": [
        {
          "output_type": "execute_result",
          "data": {
            "text/plain": [
              "array([[[0.25      , 0.25      , 0.25      , ..., 0.25      ,\n",
              "         0.25      , 0.25      ],\n",
              "        [0.25      , 0.25      , 0.25      , ..., 0.25      ,\n",
              "         0.25      , 0.25      ],\n",
              "        [0.25      , 0.25      , 0.25      , ..., 0.25      ,\n",
              "         0.25      , 0.25      ],\n",
              "        ...,\n",
              "        [0.25      , 0.25      , 0.25      , ..., 0.25      ,\n",
              "         0.25      , 0.25      ],\n",
              "        [0.25      , 0.25      , 0.25      , ..., 0.25      ,\n",
              "         0.25      , 0.25      ],\n",
              "        [0.25      , 0.25      , 0.25      , ..., 0.25      ,\n",
              "         0.25      , 0.25      ]],\n",
              "\n",
              "       [[0.25      , 0.25      , 0.25      , ..., 0.25      ,\n",
              "         0.25      , 0.25      ],\n",
              "        [0.25      , 0.25      , 0.25      , ..., 0.25      ,\n",
              "         0.25      , 0.25      ],\n",
              "        [0.25      , 0.25      , 0.25      , ..., 0.25      ,\n",
              "         0.25      , 0.25      ],\n",
              "        ...,\n",
              "        [0.25      , 0.25      , 0.25      , ..., 0.25      ,\n",
              "         0.25      , 0.25      ],\n",
              "        [0.25      , 0.25      , 0.25      , ..., 0.25      ,\n",
              "         0.25      , 0.25      ],\n",
              "        [0.25      , 0.25      , 0.25      , ..., 0.25      ,\n",
              "         0.25      , 0.25      ]],\n",
              "\n",
              "       [[0.25      , 0.25      , 0.25      , ..., 0.25      ,\n",
              "         0.25      , 0.25      ],\n",
              "        [0.25      , 0.25      , 0.25      , ..., 0.25      ,\n",
              "         0.25      , 0.25      ],\n",
              "        [0.25      , 0.25      , 0.25      , ..., 0.25      ,\n",
              "         0.25      , 0.25      ],\n",
              "        ...,\n",
              "        [0.25      , 0.25      , 0.25      , ..., 0.25      ,\n",
              "         0.25      , 0.25      ],\n",
              "        [0.25      , 0.25      , 0.25      , ..., 0.25      ,\n",
              "         0.25      , 0.25      ],\n",
              "        [0.25      , 0.25      , 0.25      , ..., 0.25      ,\n",
              "         0.25      , 0.25      ]],\n",
              "\n",
              "       ...,\n",
              "\n",
              "       [[0.2509804 , 0.2509804 , 0.2509804 , ..., 0.2509804 ,\n",
              "         0.25882354, 0.2627451 ],\n",
              "        [0.24313726, 0.24313726, 0.24313726, ..., 0.23921569,\n",
              "         0.24313726, 0.24313726],\n",
              "        [0.2509804 , 0.2509804 , 0.24705882, ..., 0.24705882,\n",
              "         0.2509804 , 0.25490198],\n",
              "        ...,\n",
              "        [0.24705882, 0.2509804 , 0.2509804 , ..., 0.25490198,\n",
              "         0.25882354, 0.2627451 ],\n",
              "        [0.2509804 , 0.25490198, 0.25490198, ..., 0.2627451 ,\n",
              "         0.25882354, 0.25882354],\n",
              "        [0.25490198, 0.25490198, 0.2509804 , ..., 0.27058825,\n",
              "         0.2627451 , 0.25490198]],\n",
              "\n",
              "       [[0.25882354, 0.2509804 , 0.24705882, ..., 0.25882354,\n",
              "         0.2627451 , 0.2627451 ],\n",
              "        [0.24313726, 0.24705882, 0.24313726, ..., 0.23529412,\n",
              "         0.23137255, 0.23921569],\n",
              "        [0.23529412, 0.24313726, 0.24705882, ..., 0.23921569,\n",
              "         0.23921569, 0.24313726],\n",
              "        ...,\n",
              "        [0.25490198, 0.25882354, 0.25882354, ..., 0.24705882,\n",
              "         0.2509804 , 0.25490198],\n",
              "        [0.25490198, 0.25490198, 0.25882354, ..., 0.2509804 ,\n",
              "         0.25882354, 0.25490198],\n",
              "        [0.26666668, 0.25490198, 0.24705882, ..., 0.25490198,\n",
              "         0.26666668, 0.2627451 ]],\n",
              "\n",
              "       [[0.24705882, 0.24705882, 0.2509804 , ..., 0.26666668,\n",
              "         0.27058825, 0.2784314 ],\n",
              "        [0.24705882, 0.24705882, 0.2509804 , ..., 0.26666668,\n",
              "         0.27058825, 0.27450982],\n",
              "        [0.24705882, 0.24705882, 0.24705882, ..., 0.27450982,\n",
              "         0.26666668, 0.25490198],\n",
              "        ...,\n",
              "        [0.25490198, 0.25490198, 0.25490198, ..., 0.26666668,\n",
              "         0.27058825, 0.27058825],\n",
              "        [0.25490198, 0.25490198, 0.25882354, ..., 0.25882354,\n",
              "         0.2627451 , 0.27058825],\n",
              "        [0.24705882, 0.24313726, 0.24313726, ..., 0.23529412,\n",
              "         0.24705882, 0.25882354]]], dtype=float32)"
            ]
          },
          "metadata": {},
          "execution_count": 4
        }
      ]
    },
    {
      "cell_type": "code",
      "source": [
        "labels"
      ],
      "metadata": {
        "colab": {
          "base_uri": "https://localhost:8080/"
        },
        "id": "yHwkp4jfog8i",
        "outputId": "fbe59a6f-1136-43de-a4d3-0badf5ae4a49"
      },
      "execution_count": 5,
      "outputs": [
        {
          "output_type": "execute_result",
          "data": {
            "text/plain": [
              "array([0, 1, 2, 3, 4, 5, 6, 7, 8, 9, 0, 1, 2, 3, 4, 5, 6, 7, 8, 9, 0, 1,\n",
              "       2, 3, 4, 5, 6, 7, 8, 9, 0, 1, 2, 3, 4, 5, 6, 7, 8, 9, 0, 1, 2, 3,\n",
              "       4, 5, 6, 7, 8, 9, 0, 1, 2, 3, 4, 5, 6, 7, 8, 9, 0, 1, 2, 3, 4, 5,\n",
              "       6, 7, 8, 9, 0, 1, 2, 3, 4, 5, 6, 7, 8, 9, 0, 1, 2, 3, 4, 5, 6, 7,\n",
              "       8, 9, 0, 1, 2, 3, 4, 5, 6, 7, 8, 9, 0, 1, 2, 3, 4, 5, 6, 7, 8, 9,\n",
              "       0, 1, 2, 3, 4, 5, 6, 7, 8, 9, 0, 1, 2, 3, 4, 5, 6, 7, 8, 9, 0, 1,\n",
              "       2, 3, 4, 5, 6, 7, 8, 9, 0, 1, 2, 3, 4, 5, 6, 7, 8, 9, 0, 1, 2, 3,\n",
              "       4, 5, 6, 7, 8, 9, 0, 1, 2, 3, 4, 5, 6, 7, 8, 9, 0, 1, 2, 3, 4, 5,\n",
              "       6, 7, 8, 9, 0, 1, 2, 3, 4, 5, 6, 7, 8, 9, 0, 1, 2, 3, 4, 5, 6, 7,\n",
              "       8, 9, 0, 0, 0, 0, 0, 0, 0, 0, 0, 0, 1, 1, 1, 1, 1, 1, 1, 1, 1, 1,\n",
              "       2, 2, 2, 2, 2, 2, 2, 2, 2, 2, 3, 3, 3, 3, 3, 3, 3, 3, 3, 3, 4, 4,\n",
              "       4, 4, 4, 4, 4, 4, 4, 4, 5, 5, 5, 5, 5, 5, 5, 5, 5, 5, 6, 6, 6, 6,\n",
              "       6, 6, 6, 6, 6, 6, 7, 7, 7, 7, 7, 7, 7, 7, 7, 7, 8, 8, 8, 8, 8, 8,\n",
              "       8, 8, 8, 8, 9, 9, 9, 9, 9, 9, 9, 9, 9, 9, 0, 1, 2, 3, 4, 5, 6, 7,\n",
              "       8, 9, 0, 1, 2, 3, 4, 5, 6, 7, 8, 9, 0, 0, 0, 0, 1, 1, 1, 1, 2, 2,\n",
              "       2, 2, 3, 3, 3, 3, 4, 4, 4, 4, 5, 5, 5, 5, 6, 6, 6, 6, 7, 7, 7, 7,\n",
              "       8, 8, 8, 8, 9, 9, 9, 9, 9, 0, 1, 2, 4, 5, 6, 7, 8, 9, 0, 1, 2, 3,\n",
              "       4, 5, 6, 7, 8, 9, 0, 1, 2, 3, 4, 5, 6, 7, 8, 9, 0, 1, 2, 3, 4, 5,\n",
              "       6, 7, 8, 9, 0, 1, 2, 3, 4, 5, 6, 7, 8, 9, 0, 1, 2, 3, 4, 5, 6, 7,\n",
              "       8, 9, 0, 1, 2, 3, 4, 5, 6, 7, 8, 9, 0, 1, 2, 3, 4, 5, 6, 7, 8, 9,\n",
              "       0, 1, 2, 3, 4, 5, 6, 7, 8, 9, 0, 1, 2, 3, 4, 5, 6, 7, 8, 9, 0, 1,\n",
              "       2, 3, 4, 5, 6, 7, 8, 9, 0, 1, 2, 3, 4, 5, 6, 7, 8, 9, 0, 1, 2, 3,\n",
              "       4, 5, 6, 7, 8, 9, 0, 1, 2, 3, 4, 5, 6, 7, 8, 9, 0, 1, 2, 3, 4, 5,\n",
              "       6, 7, 8, 9, 0, 1, 2, 3, 4, 5, 6, 7, 8, 9, 0, 1, 2, 3, 4, 5, 6, 7,\n",
              "       8, 9, 0, 1, 2, 3, 4, 5, 6, 7, 8, 9, 0, 1, 2, 3, 4, 5, 6, 7, 8, 9,\n",
              "       0, 1, 2, 3, 4, 5, 6, 7, 8, 9, 0, 1, 2, 3, 4, 5, 6, 7, 8, 9, 0, 1,\n",
              "       2, 3, 4, 5, 6, 7, 8, 9, 0, 1, 2, 3, 4, 5, 6, 7, 8, 9, 0, 1, 2, 3,\n",
              "       4, 5, 6, 7, 8, 9, 0, 1, 2, 3, 4, 5, 6, 7, 8, 9])"
            ]
          },
          "metadata": {},
          "execution_count": 5
        }
      ]
    }
  ]
}