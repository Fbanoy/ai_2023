{
 "cells": [
  {
   "attachments": {},
   "cell_type": "markdown",
   "metadata": {},
   "source": [
    "### Norms\n",
    "1. [Wolfram](https://mathworld.wolfram.com/MatrixNorm.html)\n",
    "2. [CS Cornell](https://www.cs.cornell.edu/courses/cs4220/2013sp/CVLBook/chap5.pdf)\n",
    "3. [MATLAB](https://la.mathworks.com/help/matlab/ref/norm.html)\n",
    "4. [Numpy](https://numpy.org/doc/stable/reference/generated/numpy.linalg.norm.html)"
   ]
  },
  {
   "cell_type": "code",
   "execution_count": 168,
   "metadata": {},
   "outputs": [],
   "source": [
    "import numpy as np\n",
    "import timeit\n",
    "# import inspect\n",
    "# print(inspect.getsource(np.linalg.norm))\n",
    "\n",
    "def my_norm_switch(   \n",
    "        A: np.ndarray,\n",
    "        type = 'fro') -> float:\n",
    "    # Parameters pre-processing.\n",
    "    type = str(type).lower()\n",
    "\n",
    "    my_switch = {\n",
    "    'fro': np.sqrt(np.sum(np.power(A, 2))),\n",
    "    # By the min-max theorem, the 2-norm matrix is the largest singular value.\n",
    "    '2': np.linalg.svd(A)[1][0],\n",
    "    '1': np.max(np.sum(A, axis=0)),\n",
    "    'inf' : np.max(np.sum(A, axis=1))\n",
    "    }\n",
    "\n",
    "    return my_switch.get(type, 'Invalid type')\n",
    "\n",
    "def my_norm_if(   \n",
    "        A: np.ndarray,\n",
    "        type = 'fro') -> float:\n",
    "    if A.ndim == 2:\n",
    "        if type=='fro':\n",
    "            ret = np.sqrt(np.sum(np.power(A, 2)))\n",
    "            # ret = np.sqrt(np.trace(A @ A.T))\n",
    "        elif type == 2:\n",
    "            # By the min-max theorem, the 2-norm matrix is the largest singular value.\n",
    "            ret =  np.linalg.svd(A)[1][0]\n",
    "        elif type == 1:\n",
    "            ret = np.max(np.sum(A, axis=0))\n",
    "        elif type == np.inf:\n",
    "            ret = np.max(np.sum(A, axis=1))\n",
    "        else:\n",
    "            raise ValueError(\"Invalid norm type for matrices.\")\n",
    "    else:\n",
    "        raise ValueError(\"Invalid matrix dimension (must be 2D).\")\n",
    "    \n",
    "    return ret\n",
    "\n",
    "def cosineDistance(a, b):\n",
    "    # https://en.wikipedia.org/wiki/Cosine_similarity\n",
    "    # It is only defined for vectors.\n",
    "    if a.ndim == 1 and b.ndim == 1:\n",
    "        Sc = np.dot(a, b) / (np.linalg.norm(a, ord=2) * np.linalg.norm(b, ord=2))\n",
    "    return 1 - Sc"
   ]
  },
  {
   "attachments": {},
   "cell_type": "markdown",
   "metadata": {},
   "source": [
    "### Examples"
   ]
  },
  {
   "cell_type": "code",
   "execution_count": 160,
   "metadata": {},
   "outputs": [
    {
     "data": {
      "text/plain": [
       "0.29289321881345254"
      ]
     },
     "execution_count": 160,
     "metadata": {},
     "output_type": "execute_result"
    }
   ],
   "source": [
    "a = np.array([1,0,1])\n",
    "b = np.array([1,0,0])\n",
    "cosineDistance(a, b)"
   ]
  },
  {
   "cell_type": "code",
   "execution_count": 190,
   "metadata": {},
   "outputs": [],
   "source": [
    "As = [np.array([[1, 2, 3], [4, 5, 6], [7, 8, 9]]), np.random.rand(3, 3)]\n",
    "types = [np.inf, 'fro', 2, 1]\n",
    "\n",
    "for A in As:\n",
    "    for type in types:\n",
    "        assert (np.linalg.norm(A, ord=type) - my_norm_if(A, type=type)) < 1e-10\n",
    "        assert (my_norm_switch(A, type=type) - my_norm_if(A, type=type)) < 1e-10"
   ]
  },
  {
   "attachments": {},
   "cell_type": "markdown",
   "metadata": {},
   "source": [
    "### Time complexity"
   ]
  },
  {
   "cell_type": "code",
   "execution_count": 189,
   "metadata": {},
   "outputs": [
    {
     "name": "stdout",
     "output_type": "stream",
     "text": [
      "Numpy execution: 0.042156916999374516 seconds\n",
      "If execution: 0.0428554999998596 seconds\n",
      "Switch execution: 0.19274270799996884 seconds\n"
     ]
    }
   ],
   "source": [
    "\n",
    "print(\"Numpy execution:\", timeit.timeit(\\\n",
    "    lambda: np.linalg.norm(A, ord=1), number=10000), \"seconds\")\n",
    "\n",
    "\n",
    "print(\"If execution:\", timeit.timeit(\\\n",
    "    lambda: my_norm_if(A, 1), number=10000), \"seconds\")\n",
    "\n",
    "print(\"Switch execution:\", timeit.timeit(\\\n",
    "    lambda: my_norm_switch(A, '1'), number=10000), \"seconds\")\n"
   ]
  }
 ],
 "metadata": {
  "kernelspec": {
   "display_name": "Python 3",
   "language": "python",
   "name": "python3"
  },
  "language_info": {
   "codemirror_mode": {
    "name": "ipython",
    "version": 3
   },
   "file_extension": ".py",
   "mimetype": "text/x-python",
   "name": "python",
   "nbconvert_exporter": "python",
   "pygments_lexer": "ipython3",
   "version": "3.9.10"
  },
  "orig_nbformat": 4
 },
 "nbformat": 4,
 "nbformat_minor": 2
}
